{
 "cells": [
  {
   "cell_type": "markdown",
   "metadata": {
    "id": "DrBEbPeHgPTe"
   },
   "source": [
    "<div style=\"text-align: justify;\">\n",
    "\n",
    "The total precedure is\n",
    "\n",
    "\n",
    "1.   preprocess text\n",
    "2.   change the text into proper vectors \n",
    "3.   create a model and train on that model\n",
    "\n",
    "the operations done for the preprocessing is to eliminate punctuations, stopwords, emojies, english characters, links, html tags. Then the text is ready to be stemmed and lemmetized. \n",
    "for the preprocessing **Hazm** library is used. \n",
    "\n",
    "to change the text into vectors two options are out there, I have used both of them. first **word2vec** second **bag of words**. I have used both of them and used different models to train and test the data. the best model was SVM  model on word2vec embedding with 70% accuracy on test data. others had almost 69% accuracy on the test data.\n",
    "\n"
   ]
  },
  {
   "cell_type": "code",
   "execution_count": null,
   "metadata": {
    "id": "RJx4npqLhDns"
   },
   "outputs": [],
   "source": [
    "# !pip install fasttext"
   ]
  },
  {
   "cell_type": "code",
   "execution_count": null,
   "metadata": {
    "colab": {
     "base_uri": "https://localhost:8080/"
    },
    "id": "uu5vstLx_jmW",
    "outputId": "9327ee50-dc25-411f-a9c4-8d8dfe665328"
   },
   "outputs": [
    {
     "name": "stdout",
     "output_type": "stream",
     "text": [
      "Collecting hazm\n",
      "\u001b[?25l  Downloading https://files.pythonhosted.org/packages/22/13/5a7074bc11d20dbbb46239349ac3f85f7edc148b4cf68e9b8c2f8263830c/hazm-0.7.0-py3-none-any.whl (316kB)\n",
      "\r",
      "\u001b[K     |█                               | 10kB 16.7MB/s eta 0:00:01\r",
      "\u001b[K     |██                              | 20kB 21.2MB/s eta 0:00:01\r",
      "\u001b[K     |███                             | 30kB 24.5MB/s eta 0:00:01\r",
      "\u001b[K     |████▏                           | 40kB 21.2MB/s eta 0:00:01\r",
      "\u001b[K     |█████▏                          | 51kB 14.9MB/s eta 0:00:01\r",
      "\u001b[K     |██████▏                         | 61kB 13.1MB/s eta 0:00:01\r",
      "\u001b[K     |███████▎                        | 71kB 13.5MB/s eta 0:00:01\r",
      "\u001b[K     |████████▎                       | 81kB 14.5MB/s eta 0:00:01\r",
      "\u001b[K     |█████████▎                      | 92kB 14.8MB/s eta 0:00:01\r",
      "\u001b[K     |██████████▍                     | 102kB 11.6MB/s eta 0:00:01\r",
      "\u001b[K     |███████████▍                    | 112kB 11.6MB/s eta 0:00:01\r",
      "\u001b[K     |████████████▍                   | 122kB 11.6MB/s eta 0:00:01\r",
      "\u001b[K     |█████████████▌                  | 133kB 11.6MB/s eta 0:00:01\r",
      "\u001b[K     |██████████████▌                 | 143kB 11.6MB/s eta 0:00:01\r",
      "\u001b[K     |███████████████▌                | 153kB 11.6MB/s eta 0:00:01\r",
      "\u001b[K     |████████████████▋               | 163kB 11.6MB/s eta 0:00:01\r",
      "\u001b[K     |█████████████████▋              | 174kB 11.6MB/s eta 0:00:01\r",
      "\u001b[K     |██████████████████▋             | 184kB 11.6MB/s eta 0:00:01\r",
      "\u001b[K     |███████████████████▋            | 194kB 11.6MB/s eta 0:00:01\r",
      "\u001b[K     |████████████████████▊           | 204kB 11.6MB/s eta 0:00:01\r",
      "\u001b[K     |█████████████████████▊          | 215kB 11.6MB/s eta 0:00:01\r",
      "\u001b[K     |██████████████████████▊         | 225kB 11.6MB/s eta 0:00:01\r",
      "\u001b[K     |███████████████████████▉        | 235kB 11.6MB/s eta 0:00:01\r",
      "\u001b[K     |████████████████████████▉       | 245kB 11.6MB/s eta 0:00:01\r",
      "\u001b[K     |█████████████████████████▉      | 256kB 11.6MB/s eta 0:00:01\r",
      "\u001b[K     |███████████████████████████     | 266kB 11.6MB/s eta 0:00:01\r",
      "\u001b[K     |████████████████████████████    | 276kB 11.6MB/s eta 0:00:01\r",
      "\u001b[K     |█████████████████████████████   | 286kB 11.6MB/s eta 0:00:01\r",
      "\u001b[K     |██████████████████████████████  | 296kB 11.6MB/s eta 0:00:01\r",
      "\u001b[K     |███████████████████████████████ | 307kB 11.6MB/s eta 0:00:01\r",
      "\u001b[K     |████████████████████████████████| 317kB 11.6MB/s \n",
      "\u001b[?25hCollecting nltk==3.3\n",
      "\u001b[?25l  Downloading https://files.pythonhosted.org/packages/50/09/3b1755d528ad9156ee7243d52aa5cd2b809ef053a0f31b53d92853dd653a/nltk-3.3.0.zip (1.4MB)\n",
      "\u001b[K     |████████████████████████████████| 1.4MB 27.0MB/s \n",
      "\u001b[?25hCollecting libwapiti>=0.2.1; platform_system != \"Windows\"\n",
      "\u001b[?25l  Downloading https://files.pythonhosted.org/packages/bc/0f/1c9b49bb49821b5856a64ea6fac8d96a619b9f291d1f06999ea98a32c89c/libwapiti-0.2.1.tar.gz (233kB)\n",
      "\u001b[K     |████████████████████████████████| 235kB 36.9MB/s \n",
      "\u001b[?25hRequirement already satisfied: six in /usr/local/lib/python3.7/dist-packages (from nltk==3.3->hazm) (1.15.0)\n",
      "Building wheels for collected packages: nltk, libwapiti\n",
      "  Building wheel for nltk (setup.py) ... \u001b[?25l\u001b[?25hdone\n",
      "  Created wheel for nltk: filename=nltk-3.3-cp37-none-any.whl size=1394488 sha256=4c58a65876bee1e0350666b9709fd57c20f7f429e77e168f35c18aceb036f303\n",
      "  Stored in directory: /root/.cache/pip/wheels/d1/ab/40/3bceea46922767e42986aef7606a600538ca80de6062dc266c\n",
      "  Building wheel for libwapiti (setup.py) ... \u001b[?25l\u001b[?25hdone\n",
      "  Created wheel for libwapiti: filename=libwapiti-0.2.1-cp37-cp37m-linux_x86_64.whl size=154012 sha256=bd4e0e3e775f6e0052c8ab6627b9109dea5e10005ee7259122beadd42b3b87bc\n",
      "  Stored in directory: /root/.cache/pip/wheels/66/15/54/4510dce8bb958b1cdd2c47425cbd1e1eecc0480ac9bb1fb9ab\n",
      "Successfully built nltk libwapiti\n",
      "Installing collected packages: nltk, libwapiti, hazm\n",
      "  Found existing installation: nltk 3.2.5\n",
      "    Uninstalling nltk-3.2.5:\n",
      "      Successfully uninstalled nltk-3.2.5\n",
      "Successfully installed hazm-0.7.0 libwapiti-0.2.1 nltk-3.3\n"
     ]
    }
   ],
   "source": [
    "!pip install hazm"
   ]
  },
  {
   "cell_type": "code",
   "execution_count": null,
   "metadata": {
    "id": "_n2Mm4rVm9_J"
   },
   "outputs": [],
   "source": [
    "import pandas as pd\n",
    "import numpy as np\n",
    "import matplotlib\n",
    "from sklearn.svm import SVC as SVM\n",
    "from sklearn.manifold import TSNE\n",
    "import matplotlib.pyplot as plt\n",
    "from sklearn.model_selection import train_test_split #for train and test split"
   ]
  },
  {
   "cell_type": "markdown",
   "metadata": {
    "id": "13ZOAfIQ0QNs"
   },
   "source": [
    "<h2>Download Data</h2>"
   ]
  },
  {
   "cell_type": "code",
   "execution_count": null,
   "metadata": {
    "id": "rmAYJ8qcyeNL"
   },
   "outputs": [],
   "source": [
    "# downloading data from the links and extract the data in the current directory\n",
    "\n",
    "\n",
    "import requests\n",
    "\n",
    "url = 'https://drive.google.com/uc?export=download&confirm=CONFIRM&id=1oRaIYZyKiBHQwvtsQ4iUilJ4av3w6jNW'\n",
    "r = requests.get(url, allow_redirects=True)\n",
    "open('train.zip', 'wb').write(r.content)\n",
    "from zipfile import ZipFile\n",
    "with ZipFile(\"train.zip\", 'r') as zip:\n",
    "  zip.extractall()\n",
    "\n",
    "url = 'https://drive.google.com/uc?export=download&confirm=CONFIRM&id=1DaAlllST8W7oKzwTwN1ov7CPRPeiKC1T'\n",
    "r = requests.get(url, allow_redirects=True)\n",
    "open('test.zip', 'wb').write(r.content)\n",
    "from zipfile import ZipFile\n",
    "with ZipFile(\"test.zip\", 'r') as zip:\n",
    "  zip.extractall()"
   ]
  },
  {
   "cell_type": "markdown",
   "metadata": {
    "id": "p-34mvXc0V1c"
   },
   "source": [
    "<h2>Functions for preprocessing and preprocessing</h2>"
   ]
  },
  {
   "cell_type": "markdown",
   "metadata": {
    "id": "FRLXp-ykffYx"
   },
   "source": [
    "***Removal of URLs***\n",
    "\n",
    "Next preprocessing step is to remove any URLs present in the data. For example, if we are doing a twitter analysis, then there is a good chance that the tweet will have some URL in it. Probably we might need to remove them for our further analysis.\n",
    "\n",
    "***Removal of HTML Tags***\n",
    "\n",
    "One another common preprocessing technique that will come handy in multiple places is removal of html tags. This is especially useful, if we scrap the data from different websites. We might end up having html strings as part of our text."
   ]
  },
  {
   "cell_type": "code",
   "execution_count": null,
   "metadata": {
    "id": "eKNnOK_mCE-E"
   },
   "outputs": [],
   "source": [
    "#function for removing html tags and links\n",
    "\n",
    "def cleanhtml(raw_html):\n",
    "  cleanr = re.compile('<.*?>|&([a-z0-9]+|#[0-9]{1,6}|#x[0-9a-f]{1,6});')\n",
    "  cleantext = re.sub(cleanr, ' ', raw_html)\n",
    "  text = re.sub(r'^https?:\\/\\/.*[\\r\\n]*', '', cleantext, flags=re.MULTILINE)\n",
    "  return text\n",
    "  # https://stackoverflow.com/questions/9662346/python-code-to-remove-html-tags-from-a-string"
   ]
  },
  {
   "cell_type": "markdown",
   "metadata": {
    "id": "0genHyWwfUjF"
   },
   "source": [
    "***Removal of Emojis***\n",
    "\n",
    "With more and more usage of social media platforms, there is an explosion in the usage of emojis in our day to day life as well. Probably we might need to remove these emojis for some of our textual analysis."
   ]
  },
  {
   "cell_type": "code",
   "execution_count": null,
   "metadata": {
    "id": "Gh18XSWIysmA"
   },
   "outputs": [],
   "source": [
    "# function for removing emojis\n",
    "\n",
    "def deEmojify(text):\n",
    "    regrex_pattern = re.compile(pattern = \"[\"\n",
    "        u\"\\U0001F600-\\U0001F64F\"  # emoticons\n",
    "        u\"\\U0001F300-\\U0001F5FF\"  # symbols & pictographs\n",
    "        u\"\\U0001F680-\\U0001F6FF\"  # transport & map symbols\n",
    "        u\"\\U0001F1E0-\\U0001F1FF\"  # flags (iOS)\n",
    "                           \"]+\", flags = re.UNICODE)\n",
    "    return regrex_pattern.sub(r'',text)"
   ]
  },
  {
   "cell_type": "markdown",
   "metadata": {
    "id": "DJ39bxcFfBle"
   },
   "source": [
    "***Stemming***\n",
    "\n",
    "Stemming is the process of reducing inflected (or sometimes derived) words to their word stem, base or root form.\n",
    "\n",
    "For example, if there are two words in the corpus walks and walking, then stemming will stem the suffix to make them walk. But say in another example, we have two words console and consoling, the stemmer will remove the suffix and make them consol which is not a proper english word.\n",
    "\n",
    "***Lemmatization***\n",
    "\n",
    "Lemmatization is similar to stemming in reducing inflected words to their word stem but differs in the way that it makes sure the root word (also called as lemma) belongs to the language.\n",
    "\n",
    "As a result, this one is generally slower than stemming process. So depending on the speed requirement, we can choose to use either stemming or lemmatization."
   ]
  },
  {
   "cell_type": "code",
   "execution_count": null,
   "metadata": {
    "id": "2VXrIz1pAymf"
   },
   "outputs": [],
   "source": [
    "# importing re and hazm for preprocessing\n",
    "\n",
    "import re\n",
    "from hazm import *\n",
    "\n",
    "normalizer = Normalizer()\n",
    "stemmer = Stemmer()\n",
    "lemmatizer = Lemmatizer()"
   ]
  },
  {
   "cell_type": "markdown",
   "metadata": {
    "id": "JIoelXVYeyU8"
   },
   "source": [
    "***Removal of stopwords***\n",
    "\n",
    "Stopwords are commonly occuring words in a language like 'the', 'a' and so on. They can be removed from the text most of the times, as they don't provide valuable information for downstream analysis. In cases like Part of Speech tagging, we should not remove them as provide very valuable information about the POS."
   ]
  },
  {
   "cell_type": "code",
   "execution_count": null,
   "metadata": {
    "colab": {
     "base_uri": "https://localhost:8080/"
    },
    "id": "ttEKe-3lZXvm",
    "outputId": "e48f000a-f8ac-45e4-a89e-a20506ae1694"
   },
   "outputs": [
    {
     "name": "stdout",
     "output_type": "stream",
     "text": [
      "[nltk_data] Downloading package stopwords to /root/nltk_data...\n",
      "[nltk_data]   Unzipping corpora/stopwords.zip.\n"
     ]
    }
   ],
   "source": [
    "# downlaoding persian stopwords\n",
    "\n",
    "import nltk\n",
    "nltk.download('stopwords')\n",
    "from nltk.corpus import WordListCorpusReader\n",
    "stopwords = WordListCorpusReader('', \"hazm/data/stopwords.dat\", encoding='utf8')\n",
    "STOPWORDS = stopwords_list()"
   ]
  },
  {
   "cell_type": "markdown",
   "metadata": {
    "id": "9SXE-yDUej12"
   },
   "source": [
    "***Removal of Punctuations***\n",
    "\n",
    "One another common text preprocessing technique is to remove the punctuations from the text data. This is again a text standardization process that will help to treat 'hurray' and 'hurray!' in the same way."
   ]
  },
  {
   "cell_type": "code",
   "execution_count": null,
   "metadata": {
    "colab": {
     "base_uri": "https://localhost:8080/"
    },
    "id": "2XNEEnpWOtCG",
    "outputId": "9acd90bb-191b-42e0-9a5f-4560245a019b"
   },
   "outputs": [
    {
     "name": "stdout",
     "output_type": "stream",
     "text": [
      "[nltk_data] Downloading package punkt to /root/nltk_data...\n",
      "[nltk_data]   Unzipping tokenizers/punkt.zip.\n"
     ]
    },
    {
     "data": {
      "text/plain": [
       "True"
      ]
     },
     "execution_count": 8,
     "metadata": {
      "tags": []
     },
     "output_type": "execute_result"
    }
   ],
   "source": [
    "#downloading punctuations\n",
    "\n",
    "nltk.download(\"punkt\")"
   ]
  },
  {
   "cell_type": "code",
   "execution_count": null,
   "metadata": {
    "id": "RwEytG66ccNY"
   },
   "outputs": [],
   "source": [
    "# saving farsi numbers\n",
    "numbers = ['۰', '۱', '۲', '۳', '۴', '۵', '۶', '۷', '۸', '۹']"
   ]
  },
  {
   "cell_type": "markdown",
   "metadata": {
    "id": "TboGyQsL0hIT"
   },
   "source": [
    "<h2> Reading the data </h2>"
   ]
  },
  {
   "cell_type": "code",
   "execution_count": null,
   "metadata": {
    "id": "3NaqHwGj2Q62"
   },
   "outputs": [],
   "source": [
    "data = pd.read_csv(\"train_set.csv\")"
   ]
  },
  {
   "cell_type": "code",
   "execution_count": null,
   "metadata": {
    "id": "UkZ48-7o7WFM"
   },
   "outputs": [],
   "source": [
    "data_test = pd.read_csv(\"test_set.csv\")"
   ]
  },
  {
   "cell_type": "code",
   "execution_count": null,
   "metadata": {
    "colab": {
     "base_uri": "https://localhost:8080/",
     "height": 424
    },
    "id": "GZPHrRxZ1fRw",
    "outputId": "e2c5f5b0-c4f6-4a9a-85e9-56875235d1cb"
   },
   "outputs": [
    {
     "data": {
      "text/html": [
       "<div>\n",
       "<style scoped>\n",
       "    .dataframe tbody tr th:only-of-type {\n",
       "        vertical-align: middle;\n",
       "    }\n",
       "\n",
       "    .dataframe tbody tr th {\n",
       "        vertical-align: top;\n",
       "    }\n",
       "\n",
       "    .dataframe thead th {\n",
       "        text-align: right;\n",
       "    }\n",
       "</style>\n",
       "<table border=\"1\" class=\"dataframe\">\n",
       "  <thead>\n",
       "    <tr style=\"text-align: right;\">\n",
       "      <th></th>\n",
       "      <th>app_id</th>\n",
       "      <th>description_fa</th>\n",
       "      <th>label</th>\n",
       "    </tr>\n",
       "  </thead>\n",
       "  <tbody>\n",
       "    <tr>\n",
       "      <th>0</th>\n",
       "      <td>0</td>\n",
       "      <td>&lt;p&gt;بازی مین روب یک برنامه فکری است که باید مین...</td>\n",
       "      <td>1</td>\n",
       "    </tr>\n",
       "    <tr>\n",
       "      <th>1</th>\n",
       "      <td>1</td>\n",
       "      <td>&lt;p&gt;دراین بازی تعدادی عکس برای شما نشان داده می...</td>\n",
       "      <td>1</td>\n",
       "    </tr>\n",
       "    <tr>\n",
       "      <th>2</th>\n",
       "      <td>2</td>\n",
       "      <td>&lt;br&gt;تلاش نافرجام برای درک «بوفالو»&lt;br&gt;مرگ پایا...</td>\n",
       "      <td>7</td>\n",
       "    </tr>\n",
       "    <tr>\n",
       "      <th>3</th>\n",
       "      <td>3</td>\n",
       "      <td>&lt;p&gt;فیلم نما ، برنامه ای برای دانلود و پخش آنلا...</td>\n",
       "      <td>7</td>\n",
       "    </tr>\n",
       "    <tr>\n",
       "      <th>4</th>\n",
       "      <td>4</td>\n",
       "      <td>&lt;p&gt;* این برنامه حاوی بیش از 500 عکس و ژست برای...</td>\n",
       "      <td>7</td>\n",
       "    </tr>\n",
       "    <tr>\n",
       "      <th>...</th>\n",
       "      <td>...</td>\n",
       "      <td>...</td>\n",
       "      <td>...</td>\n",
       "    </tr>\n",
       "    <tr>\n",
       "      <th>37894</th>\n",
       "      <td>37894</td>\n",
       "      <td>&lt;h3&gt;بدون هیچ هزینه ای، هر هفته مسابقه&lt;/h3&gt;\\n&lt;p...</td>\n",
       "      <td>1</td>\n",
       "    </tr>\n",
       "    <tr>\n",
       "      <th>37895</th>\n",
       "      <td>37895</td>\n",
       "      <td>&lt;p&gt;حیوانات مزرعه به کمک شما احتیاج دارند. بلوک...</td>\n",
       "      <td>1</td>\n",
       "    </tr>\n",
       "    <tr>\n",
       "      <th>37896</th>\n",
       "      <td>37896</td>\n",
       "      <td>&lt;p&gt;&lt;b&gt;_ دوست داری عکس پروفایلت خاص باشه؟&lt;/b&gt;&lt;/...</td>\n",
       "      <td>7</td>\n",
       "    </tr>\n",
       "    <tr>\n",
       "      <th>37897</th>\n",
       "      <td>37897</td>\n",
       "      <td>&lt;p&gt; &lt;p&gt; &lt;b&gt;@@ اولین نسخه این بازی @@ &lt;/b&gt; &lt;br&gt;...</td>\n",
       "      <td>1</td>\n",
       "    </tr>\n",
       "    <tr>\n",
       "      <th>37898</th>\n",
       "      <td>37898</td>\n",
       "      <td>&lt;h4&gt;تاريخي خونين از مردم ايران&lt;/h4&gt;\\n&lt;h4&gt;نبرد ...</td>\n",
       "      <td>0</td>\n",
       "    </tr>\n",
       "  </tbody>\n",
       "</table>\n",
       "<p>37899 rows × 3 columns</p>\n",
       "</div>"
      ],
      "text/plain": [
       "       app_id                                     description_fa  label\n",
       "0           0  <p>بازی مین روب یک برنامه فکری است که باید مین...      1\n",
       "1           1  <p>دراین بازی تعدادی عکس برای شما نشان داده می...      1\n",
       "2           2  <br>تلاش نافرجام برای درک «بوفالو»<br>مرگ پایا...      7\n",
       "3           3  <p>فیلم نما ، برنامه ای برای دانلود و پخش آنلا...      7\n",
       "4           4  <p>* این برنامه حاوی بیش از 500 عکس و ژست برای...      7\n",
       "...       ...                                                ...    ...\n",
       "37894   37894  <h3>بدون هیچ هزینه ای، هر هفته مسابقه</h3>\\n<p...      1\n",
       "37895   37895  <p>حیوانات مزرعه به کمک شما احتیاج دارند. بلوک...      1\n",
       "37896   37896  <p><b>_ دوست داری عکس پروفایلت خاص باشه؟</b></...      7\n",
       "37897   37897  <p> <p> <b>@@ اولین نسخه این بازی @@ </b> <br>...      1\n",
       "37898   37898  <h4>تاريخي خونين از مردم ايران</h4>\\n<h4>نبرد ...      0\n",
       "\n",
       "[37899 rows x 3 columns]"
      ]
     },
     "execution_count": 16,
     "metadata": {
      "tags": []
     },
     "output_type": "execute_result"
    }
   ],
   "source": [
    "# first glanse at data\n",
    "data"
   ]
  },
  {
   "cell_type": "code",
   "execution_count": null,
   "metadata": {
    "colab": {
     "base_uri": "https://localhost:8080/",
     "height": 283
    },
    "id": "loa3dL4dUVJt",
    "outputId": "ea2ff5be-2a3c-42e5-bddf-1743d54bf4f0"
   },
   "outputs": [
    {
     "data": {
      "text/plain": [
       "<matplotlib.axes._subplots.AxesSubplot at 0x7f69de986290>"
      ]
     },
     "execution_count": 40,
     "metadata": {
      "tags": []
     },
     "output_type": "execute_result"
    },
    {
     "data": {
      "image/png": "[encoded data removed]",
      "text/plain": [
       "<Figure size 432x288 with 1 Axes>"
      ]
     },
     "metadata": {
      "needs_background": "light",
      "tags": []
     },
     "output_type": "display_data"
    }
   ],
   "source": [
    "# see the histogram of the labels\n",
    "\n",
    "data[\"label\"].plot.hist(bins = 10)"
   ]
  },
  {
   "cell_type": "markdown",
   "metadata": {
    "id": "uaqTLLbG0pTr"
   },
   "source": [
    "<h2> Preprocess the data </h2>"
   ]
  },
  {
   "cell_type": "code",
   "execution_count": null,
   "metadata": {
    "id": "etcGn8glnzG-"
   },
   "outputs": [],
   "source": [
    "def preprocess_data(data):\n",
    "  for i in range(0, len(data[\"description_fa\"])):\n",
    "    x = data[\"description_fa\"][i] \n",
    "    document = cleanhtml(x)\n",
    "    document = deEmojify(document)\n",
    "    document = re.sub(r'[A-Z0-9a-z]+',\" \",document)\n",
    "    regex = re.compile(r'[\\n\\r\\t]')\n",
    "    document = regex.sub(\" \",  document)\n",
    "    # Removing prefixed 'b'\n",
    "    document = re.sub(r'^b\\s+', '', document)\n",
    "    # remove more than one space\n",
    "    document = re.sub(r'\\s+', ' ', document, flags=re.I)\n",
    "    # remove single words\n",
    "    document = re.sub(r'\\b\\w{1}\\b', '', document)\n",
    "    text = ' '.join(word for word in word_tokenize(document) if word not in STOPWORDS)\n",
    "    #text= ' '.join(word for word in word_tokenize(text) if word.isalnum())\n",
    "    for n in numbers:\n",
    "      text = text.replace(n,\" \")\n",
    "\n",
    "    # normalize\n",
    "    d_n = normalizer.normalize(text)\n",
    "    res = re.sub(r'[^\\w\\s]', '', d_n)\n",
    "    new_corpus=' '.join([lemmatizer.lemmatize(word) for word in word_tokenize(res)])\n",
    "    new_corpus=new_corpus.replace(\"#\", ' ')\n",
    "    new_corpus=[' '.join([stemmer.stem(word) for word in word_tokenize(new_corpus)])]\n",
    "    data[\"description_fa\"][i] = new_corpus[0]\n",
    "\n",
    "  return data"
   ]
  },
  {
   "cell_type": "code",
   "execution_count": null,
   "metadata": {
    "colab": {
     "base_uri": "https://localhost:8080/"
    },
    "id": "0Sk-5wKQ_9nY",
    "outputId": "ac046d44-487c-49ca-e5b1-a3cb48946664"
   },
   "outputs": [
    {
     "name": "stderr",
     "output_type": "stream",
     "text": [
      "/usr/local/lib/python3.7/dist-packages/ipykernel_launcher.py:26: SettingWithCopyWarning: \n",
      "A value is trying to be set on a copy of a slice from a DataFrame\n",
      "\n",
      "See the caveats in the documentation: https://pandas.pydata.org/pandas-docs/stable/user_guide/indexing.html#returning-a-view-versus-a-copy\n"
     ]
    }
   ],
   "source": [
    "data = preprocess_data(data)"
   ]
  },
  {
   "cell_type": "code",
   "execution_count": null,
   "metadata": {
    "colab": {
     "base_uri": "https://localhost:8080/",
     "height": 424
    },
    "id": "UmWI9u-xq7Dy",
    "outputId": "75754c52-6326-4779-bff5-3880970b12e8"
   },
   "outputs": [
    {
     "data": {
      "text/html": [
       "<div>\n",
       "<style scoped>\n",
       "    .dataframe tbody tr th:only-of-type {\n",
       "        vertical-align: middle;\n",
       "    }\n",
       "\n",
       "    .dataframe tbody tr th {\n",
       "        vertical-align: top;\n",
       "    }\n",
       "\n",
       "    .dataframe thead th {\n",
       "        text-align: right;\n",
       "    }\n",
       "</style>\n",
       "<table border=\"1\" class=\"dataframe\">\n",
       "  <thead>\n",
       "    <tr style=\"text-align: right;\">\n",
       "      <th></th>\n",
       "      <th>app_id</th>\n",
       "      <th>description_fa</th>\n",
       "      <th>label</th>\n",
       "    </tr>\n",
       "  </thead>\n",
       "  <tbody>\n",
       "    <tr>\n",
       "      <th>0</th>\n",
       "      <td>0</td>\n",
       "      <td>بازی مین روب برنامه فکر مین موجود صفحه بازی کش...</td>\n",
       "      <td>1</td>\n",
       "    </tr>\n",
       "    <tr>\n",
       "      <th>1</th>\n",
       "      <td>1</td>\n",
       "      <td>دراین بازی تعداد عکس نشان خاطر سپرده بعدا جواب...</td>\n",
       "      <td>1</td>\n",
       "    </tr>\n",
       "    <tr>\n",
       "      <th>2</th>\n",
       "      <td>2</td>\n",
       "      <td>تلاش نافرجام درک بوفالو مرگ پایان ماجرا آنجاست...</td>\n",
       "      <td>7</td>\n",
       "    </tr>\n",
       "    <tr>\n",
       "      <th>3</th>\n",
       "      <td>3</td>\n",
       "      <td>فیلم نما برنامهای دانلود آنلاین فیلم سریال نما...</td>\n",
       "      <td>7</td>\n",
       "    </tr>\n",
       "    <tr>\n",
       "      <th>4</th>\n",
       "      <td>4</td>\n",
       "      <td>برنامه حاوی عکس ژست مدل عکاس شدنه کتاب مدلهای ...</td>\n",
       "      <td>7</td>\n",
       "    </tr>\n",
       "    <tr>\n",
       "      <th>...</th>\n",
       "      <td>...</td>\n",
       "      <td>...</td>\n",
       "      <td>...</td>\n",
       "    </tr>\n",
       "    <tr>\n",
       "      <th>37894</th>\n",
       "      <td>37894</td>\n",
       "      <td>هزینهای هفته مسابقه هرگونه ابهام سوال مشکل کان...</td>\n",
       "      <td>1</td>\n",
       "    </tr>\n",
       "    <tr>\n",
       "      <th>37895</th>\n",
       "      <td>37895</td>\n",
       "      <td>حیوانات مزرعه کمک احتیاج بلوک نجات ببرید جذاب ...</td>\n",
       "      <td>1</td>\n",
       "    </tr>\n",
       "    <tr>\n",
       "      <th>37896</th>\n",
       "      <td>37896</td>\n",
       "      <td>دوست داشت دار عکس پروفایلت باشه حتما برنامه نص...</td>\n",
       "      <td>7</td>\n",
       "    </tr>\n",
       "    <tr>\n",
       "      <th>37897</th>\n",
       "      <td>37897</td>\n",
       "      <td>نسخه بازی بازی معما صد لوگوی باشگاه جهان دید ب...</td>\n",
       "      <td>1</td>\n",
       "    </tr>\n",
       "    <tr>\n",
       "      <th>37898</th>\n",
       "      <td>37898</td>\n",
       "      <td>تاریخ خونین مردم ایران نبرد پایدار آفریدگان قت...</td>\n",
       "      <td>0</td>\n",
       "    </tr>\n",
       "  </tbody>\n",
       "</table>\n",
       "<p>37899 rows × 3 columns</p>\n",
       "</div>"
      ],
      "text/plain": [
       "       app_id                                     description_fa  label\n",
       "0           0  بازی مین روب برنامه فکر مین موجود صفحه بازی کش...      1\n",
       "1           1  دراین بازی تعداد عکس نشان خاطر سپرده بعدا جواب...      1\n",
       "2           2  تلاش نافرجام درک بوفالو مرگ پایان ماجرا آنجاست...      7\n",
       "3           3  فیلم نما برنامهای دانلود آنلاین فیلم سریال نما...      7\n",
       "4           4  برنامه حاوی عکس ژست مدل عکاس شدنه کتاب مدلهای ...      7\n",
       "...       ...                                                ...    ...\n",
       "37894   37894  هزینهای هفته مسابقه هرگونه ابهام سوال مشکل کان...      1\n",
       "37895   37895  حیوانات مزرعه کمک احتیاج بلوک نجات ببرید جذاب ...      1\n",
       "37896   37896  دوست داشت دار عکس پروفایلت باشه حتما برنامه نص...      7\n",
       "37897   37897  نسخه بازی بازی معما صد لوگوی باشگاه جهان دید ب...      1\n",
       "37898   37898  تاریخ خونین مردم ایران نبرد پایدار آفریدگان قت...      0\n",
       "\n",
       "[37899 rows x 3 columns]"
      ]
     },
     "execution_count": 14,
     "metadata": {
      "tags": []
     },
     "output_type": "execute_result"
    }
   ],
   "source": [
    "# train data after preprocessing\n",
    "data"
   ]
  },
  {
   "cell_type": "code",
   "execution_count": null,
   "metadata": {
    "colab": {
     "base_uri": "https://localhost:8080/"
    },
    "id": "nF_sk8FcpIkz",
    "outputId": "28b37be1-bad2-4cab-d047-491ef2cdb7a7"
   },
   "outputs": [
    {
     "name": "stderr",
     "output_type": "stream",
     "text": [
      "/usr/local/lib/python3.7/dist-packages/ipykernel_launcher.py:26: SettingWithCopyWarning: \n",
      "A value is trying to be set on a copy of a slice from a DataFrame\n",
      "\n",
      "See the caveats in the documentation: https://pandas.pydata.org/pandas-docs/stable/user_guide/indexing.html#returning-a-view-versus-a-copy\n"
     ]
    }
   ],
   "source": [
    "data_test = preprocess_data(data_test)"
   ]
  },
  {
   "cell_type": "code",
   "execution_count": null,
   "metadata": {
    "colab": {
     "base_uri": "https://localhost:8080/"
    },
    "id": "SpdkW0jFuCIm",
    "outputId": "a29572b5-89cd-47d2-f6af-2049e2d230a0"
   },
   "outputs": [
    {
     "data": {
      "text/plain": [
       "0       برنامه باز جالب میکرو آماده باز جنگ بالون باز ...\n",
       "1       باز آموز میلونر زب انگلیس تقو زب انگیلیس سنین ...\n",
       "2       موضوع بین کل کرد کن شاد سرگر حدس کل موضوع سبک ...\n",
       "3       نر افزار فول تلگرا تلگرا امک بهتون ده هیچ نر ا...\n",
       "4       کرد کن سریع هست تون خودتو امتح کرد کن باز ساده...\n",
       "                              ...                        \n",
       "9995    فالوورگیر اینستاگرا امک لایک گرف گیر اینستاگرا...\n",
       "9996    میخوا نامحدود آنفلو کرد کن دلتون میخواد عکس ای...\n",
       "9997    باز زیبا کنسول میکرو یاد گذشته براتون بازیه زی...\n",
       "9998    دوس دا دار اطلاع عمو بالا دا دار دوس دا دار چ ...\n",
       "9999    لباس ت فوتبالو میشناس دل میخواد خودتو محک زد ز...\n",
       "Name: description_fa, Length: 10000, dtype: object"
      ]
     },
     "execution_count": 35,
     "metadata": {
      "tags": []
     },
     "output_type": "execute_result"
    }
   ],
   "source": [
    "# test data after processing\n",
    "\n",
    "data_test[\"description_fa\"]"
   ]
  },
  {
   "cell_type": "code",
   "execution_count": null,
   "metadata": {
    "id": "HtMGlgDNTNo-"
   },
   "outputs": [],
   "source": [
    "# create y from the data for furthur processes\n",
    "\n",
    "y = data[\"label\"]\n",
    "y = y.to_numpy()"
   ]
  },
  {
   "cell_type": "markdown",
   "metadata": {
    "id": "wZUh_zrE1sQG"
   },
   "source": [
    "<h1> <b>Process the Data</b> </h1>"
   ]
  },
  {
   "cell_type": "markdown",
   "metadata": {
    "id": "x7Y5yxNz1iWk"
   },
   "source": [
    "<h2> Bag of words </h2>"
   ]
  },
  {
   "cell_type": "code",
   "execution_count": null,
   "metadata": {
    "id": "zyA33qE6So59"
   },
   "outputs": [],
   "source": [
    "#for impementing bag of words\n",
    "\n",
    "from sklearn.feature_extraction.text import CountVectorizer"
   ]
  },
  {
   "cell_type": "code",
   "execution_count": null,
   "metadata": {
    "id": "2LnXcnhbS_Hk"
   },
   "outputs": [],
   "source": [
    "X_train, X_test, y_train, y_test = train_test_split(data[\"description_fa\"], y)"
   ]
  },
  {
   "cell_type": "code",
   "execution_count": null,
   "metadata": {
    "id": "LLmi_8KbRb_F"
   },
   "outputs": [],
   "source": [
    "#create bag of words on the whole data\n",
    "\n",
    "matrix = CountVectorizer(max_features=1500, lowercase=\"false\")\n",
    "x_train = matrix.fit_transform(data[\"description_fa\"]).toarray()"
   ]
  },
  {
   "cell_type": "code",
   "execution_count": null,
   "metadata": {
    "id": "Ll16vLhF68z-"
   },
   "outputs": [],
   "source": [
    "# create bag of words on just a data splitedt for training\n",
    "\n",
    "matrix_2 = CountVectorizer(max_features=1500, lowercase=\"false\")\n",
    "X_train_2 = matrix_2.fit_transform(X_train).toarray()"
   ]
  },
  {
   "cell_type": "code",
   "execution_count": null,
   "metadata": {
    "id": "JpzIgnymw7IH"
   },
   "outputs": [],
   "source": [
    "# create bag of words on the validation data\n",
    "\n",
    "x_test = matrix_2.transform(X_test).toarray()"
   ]
  },
  {
   "cell_type": "code",
   "execution_count": null,
   "metadata": {
    "id": "1xEvRaf-hJO7"
   },
   "outputs": [],
   "source": [
    "# create bag of words on the whole test data\n",
    "\n",
    "x_test = matrix.transform(data_test[\"description_fa\"]).toarray()"
   ]
  },
  {
   "cell_type": "code",
   "execution_count": null,
   "metadata": {
    "colab": {
     "base_uri": "https://localhost:8080/",
     "height": 444
    },
    "id": "aJfneX4cUHwX",
    "outputId": "85dffff4-0f25-4eeb-8c65-522e63a69e88"
   },
   "outputs": [
    {
     "data": {
      "text/html": [
       "<div>\n",
       "<style scoped>\n",
       "    .dataframe tbody tr th:only-of-type {\n",
       "        vertical-align: middle;\n",
       "    }\n",
       "\n",
       "    .dataframe tbody tr th {\n",
       "        vertical-align: top;\n",
       "    }\n",
       "\n",
       "    .dataframe thead th {\n",
       "        text-align: right;\n",
       "    }\n",
       "</style>\n",
       "<table border=\"1\" class=\"dataframe\">\n",
       "  <thead>\n",
       "    <tr style=\"text-align: right;\">\n",
       "      <th></th>\n",
       "      <th>آب</th>\n",
       "      <th>آت</th>\n",
       "      <th>آتار</th>\n",
       "      <th>آثار</th>\n",
       "      <th>آخر</th>\n",
       "      <th>آد</th>\n",
       "      <th>آدرس</th>\n",
       "      <th>آرا</th>\n",
       "      <th>آرام</th>\n",
       "      <th>آرزو</th>\n",
       "      <th>آزاد</th>\n",
       "      <th>آزما</th>\n",
       "      <th>آزمون</th>\n",
       "      <th>آس</th>\n",
       "      <th>آشنا</th>\n",
       "      <th>آشپز</th>\n",
       "      <th>آغاز</th>\n",
       "      <th>آفلاین</th>\n",
       "      <th>آقا</th>\n",
       "      <th>آل</th>\n",
       "      <th>آماده</th>\n",
       "      <th>آمار</th>\n",
       "      <th>آمد</th>\n",
       "      <th>آمریکا</th>\n",
       "      <th>آموخ</th>\n",
       "      <th>آموز</th>\n",
       "      <th>آمیز</th>\n",
       "      <th>آن</th>\n",
       "      <th>آندروید</th>\n",
       "      <th>آنرا</th>\n",
       "      <th>آنفالو</th>\n",
       "      <th>آنلاین</th>\n",
       "      <th>آهنگ</th>\n",
       "      <th>آور</th>\n",
       "      <th>آورد</th>\n",
       "      <th>آوردن</th>\n",
       "      <th>آپ</th>\n",
       "      <th>آپد</th>\n",
       "      <th>آپدیت</th>\n",
       "      <th>آگاه</th>\n",
       "      <th>...</th>\n",
       "      <th>گرامر</th>\n",
       "      <th>گربه</th>\n",
       "      <th>گرد</th>\n",
       "      <th>گردآور</th>\n",
       "      <th>گردیده</th>\n",
       "      <th>گرف</th>\n",
       "      <th>گرفتن</th>\n",
       "      <th>گروه</th>\n",
       "      <th>گزار</th>\n",
       "      <th>گزینه</th>\n",
       "      <th>گف</th>\n",
       "      <th>گفتگو</th>\n",
       "      <th>گل</th>\n",
       "      <th>گلچین</th>\n",
       "      <th>گنجانده</th>\n",
       "      <th>گو</th>\n",
       "      <th>گوشی</th>\n",
       "      <th>گوشیتون</th>\n",
       "      <th>گوناگون</th>\n",
       "      <th>گوگل</th>\n",
       "      <th>گیاه</th>\n",
       "      <th>گیر</th>\n",
       "      <th>گیف</th>\n",
       "      <th>گیمر</th>\n",
       "      <th>گیمپل</th>\n",
       "      <th>یا</th>\n",
       "      <th>یاب</th>\n",
       "      <th>یاد</th>\n",
       "      <th>یادآور</th>\n",
       "      <th>یادتون</th>\n",
       "      <th>یاددا</th>\n",
       "      <th>یادگیر</th>\n",
       "      <th>یار</th>\n",
       "      <th>یاف</th>\n",
       "      <th>یافتن</th>\n",
       "      <th>یخ</th>\n",
       "      <th>یه</th>\n",
       "      <th>یک</th>\n",
       "      <th>یکبار</th>\n",
       "      <th>یکس</th>\n",
       "    </tr>\n",
       "  </thead>\n",
       "  <tbody>\n",
       "    <tr>\n",
       "      <th>0</th>\n",
       "      <td>0</td>\n",
       "      <td>0</td>\n",
       "      <td>0</td>\n",
       "      <td>0</td>\n",
       "      <td>0</td>\n",
       "      <td>0</td>\n",
       "      <td>0</td>\n",
       "      <td>0</td>\n",
       "      <td>0</td>\n",
       "      <td>0</td>\n",
       "      <td>0</td>\n",
       "      <td>0</td>\n",
       "      <td>0</td>\n",
       "      <td>1</td>\n",
       "      <td>0</td>\n",
       "      <td>0</td>\n",
       "      <td>0</td>\n",
       "      <td>0</td>\n",
       "      <td>0</td>\n",
       "      <td>0</td>\n",
       "      <td>0</td>\n",
       "      <td>1</td>\n",
       "      <td>0</td>\n",
       "      <td>0</td>\n",
       "      <td>0</td>\n",
       "      <td>0</td>\n",
       "      <td>0</td>\n",
       "      <td>0</td>\n",
       "      <td>0</td>\n",
       "      <td>0</td>\n",
       "      <td>0</td>\n",
       "      <td>0</td>\n",
       "      <td>0</td>\n",
       "      <td>0</td>\n",
       "      <td>0</td>\n",
       "      <td>0</td>\n",
       "      <td>0</td>\n",
       "      <td>0</td>\n",
       "      <td>0</td>\n",
       "      <td>0</td>\n",
       "      <td>...</td>\n",
       "      <td>0</td>\n",
       "      <td>0</td>\n",
       "      <td>0</td>\n",
       "      <td>0</td>\n",
       "      <td>0</td>\n",
       "      <td>0</td>\n",
       "      <td>0</td>\n",
       "      <td>0</td>\n",
       "      <td>0</td>\n",
       "      <td>0</td>\n",
       "      <td>0</td>\n",
       "      <td>0</td>\n",
       "      <td>0</td>\n",
       "      <td>0</td>\n",
       "      <td>0</td>\n",
       "      <td>0</td>\n",
       "      <td>0</td>\n",
       "      <td>0</td>\n",
       "      <td>0</td>\n",
       "      <td>0</td>\n",
       "      <td>0</td>\n",
       "      <td>0</td>\n",
       "      <td>0</td>\n",
       "      <td>0</td>\n",
       "      <td>0</td>\n",
       "      <td>0</td>\n",
       "      <td>0</td>\n",
       "      <td>0</td>\n",
       "      <td>0</td>\n",
       "      <td>0</td>\n",
       "      <td>0</td>\n",
       "      <td>0</td>\n",
       "      <td>0</td>\n",
       "      <td>0</td>\n",
       "      <td>0</td>\n",
       "      <td>0</td>\n",
       "      <td>0</td>\n",
       "      <td>0</td>\n",
       "      <td>0</td>\n",
       "      <td>0</td>\n",
       "    </tr>\n",
       "    <tr>\n",
       "      <th>1</th>\n",
       "      <td>0</td>\n",
       "      <td>0</td>\n",
       "      <td>0</td>\n",
       "      <td>0</td>\n",
       "      <td>1</td>\n",
       "      <td>0</td>\n",
       "      <td>0</td>\n",
       "      <td>0</td>\n",
       "      <td>0</td>\n",
       "      <td>0</td>\n",
       "      <td>0</td>\n",
       "      <td>0</td>\n",
       "      <td>0</td>\n",
       "      <td>0</td>\n",
       "      <td>0</td>\n",
       "      <td>0</td>\n",
       "      <td>0</td>\n",
       "      <td>0</td>\n",
       "      <td>0</td>\n",
       "      <td>0</td>\n",
       "      <td>0</td>\n",
       "      <td>0</td>\n",
       "      <td>0</td>\n",
       "      <td>0</td>\n",
       "      <td>0</td>\n",
       "      <td>0</td>\n",
       "      <td>0</td>\n",
       "      <td>0</td>\n",
       "      <td>0</td>\n",
       "      <td>0</td>\n",
       "      <td>0</td>\n",
       "      <td>0</td>\n",
       "      <td>0</td>\n",
       "      <td>0</td>\n",
       "      <td>0</td>\n",
       "      <td>0</td>\n",
       "      <td>0</td>\n",
       "      <td>0</td>\n",
       "      <td>0</td>\n",
       "      <td>0</td>\n",
       "      <td>...</td>\n",
       "      <td>0</td>\n",
       "      <td>0</td>\n",
       "      <td>0</td>\n",
       "      <td>0</td>\n",
       "      <td>0</td>\n",
       "      <td>0</td>\n",
       "      <td>0</td>\n",
       "      <td>0</td>\n",
       "      <td>0</td>\n",
       "      <td>0</td>\n",
       "      <td>0</td>\n",
       "      <td>0</td>\n",
       "      <td>0</td>\n",
       "      <td>0</td>\n",
       "      <td>0</td>\n",
       "      <td>0</td>\n",
       "      <td>0</td>\n",
       "      <td>0</td>\n",
       "      <td>0</td>\n",
       "      <td>0</td>\n",
       "      <td>0</td>\n",
       "      <td>0</td>\n",
       "      <td>0</td>\n",
       "      <td>0</td>\n",
       "      <td>0</td>\n",
       "      <td>0</td>\n",
       "      <td>0</td>\n",
       "      <td>0</td>\n",
       "      <td>0</td>\n",
       "      <td>0</td>\n",
       "      <td>0</td>\n",
       "      <td>0</td>\n",
       "      <td>0</td>\n",
       "      <td>0</td>\n",
       "      <td>0</td>\n",
       "      <td>0</td>\n",
       "      <td>0</td>\n",
       "      <td>0</td>\n",
       "      <td>0</td>\n",
       "      <td>0</td>\n",
       "    </tr>\n",
       "    <tr>\n",
       "      <th>2</th>\n",
       "      <td>2</td>\n",
       "      <td>0</td>\n",
       "      <td>0</td>\n",
       "      <td>0</td>\n",
       "      <td>0</td>\n",
       "      <td>0</td>\n",
       "      <td>0</td>\n",
       "      <td>1</td>\n",
       "      <td>0</td>\n",
       "      <td>0</td>\n",
       "      <td>0</td>\n",
       "      <td>0</td>\n",
       "      <td>0</td>\n",
       "      <td>0</td>\n",
       "      <td>0</td>\n",
       "      <td>0</td>\n",
       "      <td>0</td>\n",
       "      <td>0</td>\n",
       "      <td>1</td>\n",
       "      <td>0</td>\n",
       "      <td>0</td>\n",
       "      <td>0</td>\n",
       "      <td>1</td>\n",
       "      <td>0</td>\n",
       "      <td>0</td>\n",
       "      <td>0</td>\n",
       "      <td>0</td>\n",
       "      <td>0</td>\n",
       "      <td>0</td>\n",
       "      <td>0</td>\n",
       "      <td>0</td>\n",
       "      <td>0</td>\n",
       "      <td>0</td>\n",
       "      <td>0</td>\n",
       "      <td>0</td>\n",
       "      <td>0</td>\n",
       "      <td>0</td>\n",
       "      <td>0</td>\n",
       "      <td>0</td>\n",
       "      <td>0</td>\n",
       "      <td>...</td>\n",
       "      <td>0</td>\n",
       "      <td>0</td>\n",
       "      <td>0</td>\n",
       "      <td>0</td>\n",
       "      <td>0</td>\n",
       "      <td>0</td>\n",
       "      <td>0</td>\n",
       "      <td>0</td>\n",
       "      <td>0</td>\n",
       "      <td>0</td>\n",
       "      <td>0</td>\n",
       "      <td>0</td>\n",
       "      <td>0</td>\n",
       "      <td>0</td>\n",
       "      <td>0</td>\n",
       "      <td>0</td>\n",
       "      <td>0</td>\n",
       "      <td>0</td>\n",
       "      <td>0</td>\n",
       "      <td>0</td>\n",
       "      <td>0</td>\n",
       "      <td>0</td>\n",
       "      <td>0</td>\n",
       "      <td>0</td>\n",
       "      <td>0</td>\n",
       "      <td>0</td>\n",
       "      <td>0</td>\n",
       "      <td>1</td>\n",
       "      <td>0</td>\n",
       "      <td>0</td>\n",
       "      <td>0</td>\n",
       "      <td>0</td>\n",
       "      <td>0</td>\n",
       "      <td>0</td>\n",
       "      <td>0</td>\n",
       "      <td>0</td>\n",
       "      <td>0</td>\n",
       "      <td>0</td>\n",
       "      <td>0</td>\n",
       "      <td>0</td>\n",
       "    </tr>\n",
       "    <tr>\n",
       "      <th>3</th>\n",
       "      <td>0</td>\n",
       "      <td>0</td>\n",
       "      <td>0</td>\n",
       "      <td>0</td>\n",
       "      <td>0</td>\n",
       "      <td>0</td>\n",
       "      <td>0</td>\n",
       "      <td>0</td>\n",
       "      <td>0</td>\n",
       "      <td>0</td>\n",
       "      <td>0</td>\n",
       "      <td>0</td>\n",
       "      <td>0</td>\n",
       "      <td>0</td>\n",
       "      <td>0</td>\n",
       "      <td>0</td>\n",
       "      <td>0</td>\n",
       "      <td>0</td>\n",
       "      <td>0</td>\n",
       "      <td>0</td>\n",
       "      <td>0</td>\n",
       "      <td>0</td>\n",
       "      <td>0</td>\n",
       "      <td>0</td>\n",
       "      <td>0</td>\n",
       "      <td>0</td>\n",
       "      <td>0</td>\n",
       "      <td>0</td>\n",
       "      <td>0</td>\n",
       "      <td>0</td>\n",
       "      <td>0</td>\n",
       "      <td>1</td>\n",
       "      <td>0</td>\n",
       "      <td>0</td>\n",
       "      <td>0</td>\n",
       "      <td>0</td>\n",
       "      <td>0</td>\n",
       "      <td>0</td>\n",
       "      <td>0</td>\n",
       "      <td>0</td>\n",
       "      <td>...</td>\n",
       "      <td>0</td>\n",
       "      <td>0</td>\n",
       "      <td>0</td>\n",
       "      <td>0</td>\n",
       "      <td>0</td>\n",
       "      <td>0</td>\n",
       "      <td>0</td>\n",
       "      <td>0</td>\n",
       "      <td>0</td>\n",
       "      <td>0</td>\n",
       "      <td>0</td>\n",
       "      <td>0</td>\n",
       "      <td>0</td>\n",
       "      <td>0</td>\n",
       "      <td>0</td>\n",
       "      <td>0</td>\n",
       "      <td>0</td>\n",
       "      <td>0</td>\n",
       "      <td>0</td>\n",
       "      <td>0</td>\n",
       "      <td>0</td>\n",
       "      <td>0</td>\n",
       "      <td>0</td>\n",
       "      <td>0</td>\n",
       "      <td>0</td>\n",
       "      <td>0</td>\n",
       "      <td>0</td>\n",
       "      <td>0</td>\n",
       "      <td>0</td>\n",
       "      <td>0</td>\n",
       "      <td>0</td>\n",
       "      <td>0</td>\n",
       "      <td>0</td>\n",
       "      <td>0</td>\n",
       "      <td>0</td>\n",
       "      <td>0</td>\n",
       "      <td>0</td>\n",
       "      <td>0</td>\n",
       "      <td>0</td>\n",
       "      <td>0</td>\n",
       "    </tr>\n",
       "    <tr>\n",
       "      <th>4</th>\n",
       "      <td>0</td>\n",
       "      <td>0</td>\n",
       "      <td>0</td>\n",
       "      <td>0</td>\n",
       "      <td>0</td>\n",
       "      <td>0</td>\n",
       "      <td>0</td>\n",
       "      <td>0</td>\n",
       "      <td>0</td>\n",
       "      <td>0</td>\n",
       "      <td>0</td>\n",
       "      <td>0</td>\n",
       "      <td>0</td>\n",
       "      <td>0</td>\n",
       "      <td>0</td>\n",
       "      <td>0</td>\n",
       "      <td>0</td>\n",
       "      <td>0</td>\n",
       "      <td>0</td>\n",
       "      <td>0</td>\n",
       "      <td>0</td>\n",
       "      <td>0</td>\n",
       "      <td>0</td>\n",
       "      <td>0</td>\n",
       "      <td>0</td>\n",
       "      <td>0</td>\n",
       "      <td>0</td>\n",
       "      <td>0</td>\n",
       "      <td>0</td>\n",
       "      <td>0</td>\n",
       "      <td>0</td>\n",
       "      <td>0</td>\n",
       "      <td>0</td>\n",
       "      <td>0</td>\n",
       "      <td>0</td>\n",
       "      <td>0</td>\n",
       "      <td>0</td>\n",
       "      <td>0</td>\n",
       "      <td>0</td>\n",
       "      <td>0</td>\n",
       "      <td>...</td>\n",
       "      <td>0</td>\n",
       "      <td>0</td>\n",
       "      <td>0</td>\n",
       "      <td>0</td>\n",
       "      <td>0</td>\n",
       "      <td>0</td>\n",
       "      <td>0</td>\n",
       "      <td>0</td>\n",
       "      <td>0</td>\n",
       "      <td>0</td>\n",
       "      <td>0</td>\n",
       "      <td>0</td>\n",
       "      <td>0</td>\n",
       "      <td>0</td>\n",
       "      <td>0</td>\n",
       "      <td>0</td>\n",
       "      <td>0</td>\n",
       "      <td>0</td>\n",
       "      <td>0</td>\n",
       "      <td>0</td>\n",
       "      <td>0</td>\n",
       "      <td>0</td>\n",
       "      <td>0</td>\n",
       "      <td>0</td>\n",
       "      <td>0</td>\n",
       "      <td>0</td>\n",
       "      <td>0</td>\n",
       "      <td>0</td>\n",
       "      <td>0</td>\n",
       "      <td>0</td>\n",
       "      <td>0</td>\n",
       "      <td>0</td>\n",
       "      <td>0</td>\n",
       "      <td>0</td>\n",
       "      <td>0</td>\n",
       "      <td>0</td>\n",
       "      <td>0</td>\n",
       "      <td>0</td>\n",
       "      <td>0</td>\n",
       "      <td>0</td>\n",
       "    </tr>\n",
       "    <tr>\n",
       "      <th>...</th>\n",
       "      <td>...</td>\n",
       "      <td>...</td>\n",
       "      <td>...</td>\n",
       "      <td>...</td>\n",
       "      <td>...</td>\n",
       "      <td>...</td>\n",
       "      <td>...</td>\n",
       "      <td>...</td>\n",
       "      <td>...</td>\n",
       "      <td>...</td>\n",
       "      <td>...</td>\n",
       "      <td>...</td>\n",
       "      <td>...</td>\n",
       "      <td>...</td>\n",
       "      <td>...</td>\n",
       "      <td>...</td>\n",
       "      <td>...</td>\n",
       "      <td>...</td>\n",
       "      <td>...</td>\n",
       "      <td>...</td>\n",
       "      <td>...</td>\n",
       "      <td>...</td>\n",
       "      <td>...</td>\n",
       "      <td>...</td>\n",
       "      <td>...</td>\n",
       "      <td>...</td>\n",
       "      <td>...</td>\n",
       "      <td>...</td>\n",
       "      <td>...</td>\n",
       "      <td>...</td>\n",
       "      <td>...</td>\n",
       "      <td>...</td>\n",
       "      <td>...</td>\n",
       "      <td>...</td>\n",
       "      <td>...</td>\n",
       "      <td>...</td>\n",
       "      <td>...</td>\n",
       "      <td>...</td>\n",
       "      <td>...</td>\n",
       "      <td>...</td>\n",
       "      <td>...</td>\n",
       "      <td>...</td>\n",
       "      <td>...</td>\n",
       "      <td>...</td>\n",
       "      <td>...</td>\n",
       "      <td>...</td>\n",
       "      <td>...</td>\n",
       "      <td>...</td>\n",
       "      <td>...</td>\n",
       "      <td>...</td>\n",
       "      <td>...</td>\n",
       "      <td>...</td>\n",
       "      <td>...</td>\n",
       "      <td>...</td>\n",
       "      <td>...</td>\n",
       "      <td>...</td>\n",
       "      <td>...</td>\n",
       "      <td>...</td>\n",
       "      <td>...</td>\n",
       "      <td>...</td>\n",
       "      <td>...</td>\n",
       "      <td>...</td>\n",
       "      <td>...</td>\n",
       "      <td>...</td>\n",
       "      <td>...</td>\n",
       "      <td>...</td>\n",
       "      <td>...</td>\n",
       "      <td>...</td>\n",
       "      <td>...</td>\n",
       "      <td>...</td>\n",
       "      <td>...</td>\n",
       "      <td>...</td>\n",
       "      <td>...</td>\n",
       "      <td>...</td>\n",
       "      <td>...</td>\n",
       "      <td>...</td>\n",
       "      <td>...</td>\n",
       "      <td>...</td>\n",
       "      <td>...</td>\n",
       "      <td>...</td>\n",
       "      <td>...</td>\n",
       "    </tr>\n",
       "    <tr>\n",
       "      <th>37894</th>\n",
       "      <td>0</td>\n",
       "      <td>0</td>\n",
       "      <td>0</td>\n",
       "      <td>0</td>\n",
       "      <td>0</td>\n",
       "      <td>0</td>\n",
       "      <td>0</td>\n",
       "      <td>0</td>\n",
       "      <td>1</td>\n",
       "      <td>0</td>\n",
       "      <td>0</td>\n",
       "      <td>0</td>\n",
       "      <td>0</td>\n",
       "      <td>0</td>\n",
       "      <td>0</td>\n",
       "      <td>0</td>\n",
       "      <td>0</td>\n",
       "      <td>0</td>\n",
       "      <td>0</td>\n",
       "      <td>0</td>\n",
       "      <td>0</td>\n",
       "      <td>0</td>\n",
       "      <td>0</td>\n",
       "      <td>0</td>\n",
       "      <td>0</td>\n",
       "      <td>0</td>\n",
       "      <td>0</td>\n",
       "      <td>0</td>\n",
       "      <td>0</td>\n",
       "      <td>0</td>\n",
       "      <td>0</td>\n",
       "      <td>0</td>\n",
       "      <td>0</td>\n",
       "      <td>1</td>\n",
       "      <td>0</td>\n",
       "      <td>0</td>\n",
       "      <td>0</td>\n",
       "      <td>0</td>\n",
       "      <td>0</td>\n",
       "      <td>0</td>\n",
       "      <td>...</td>\n",
       "      <td>0</td>\n",
       "      <td>0</td>\n",
       "      <td>0</td>\n",
       "      <td>0</td>\n",
       "      <td>0</td>\n",
       "      <td>0</td>\n",
       "      <td>0</td>\n",
       "      <td>0</td>\n",
       "      <td>1</td>\n",
       "      <td>0</td>\n",
       "      <td>0</td>\n",
       "      <td>0</td>\n",
       "      <td>0</td>\n",
       "      <td>0</td>\n",
       "      <td>0</td>\n",
       "      <td>0</td>\n",
       "      <td>0</td>\n",
       "      <td>0</td>\n",
       "      <td>0</td>\n",
       "      <td>0</td>\n",
       "      <td>0</td>\n",
       "      <td>0</td>\n",
       "      <td>0</td>\n",
       "      <td>0</td>\n",
       "      <td>0</td>\n",
       "      <td>0</td>\n",
       "      <td>0</td>\n",
       "      <td>0</td>\n",
       "      <td>0</td>\n",
       "      <td>0</td>\n",
       "      <td>0</td>\n",
       "      <td>0</td>\n",
       "      <td>0</td>\n",
       "      <td>0</td>\n",
       "      <td>0</td>\n",
       "      <td>0</td>\n",
       "      <td>0</td>\n",
       "      <td>0</td>\n",
       "      <td>0</td>\n",
       "      <td>0</td>\n",
       "    </tr>\n",
       "    <tr>\n",
       "      <th>37895</th>\n",
       "      <td>0</td>\n",
       "      <td>0</td>\n",
       "      <td>0</td>\n",
       "      <td>0</td>\n",
       "      <td>0</td>\n",
       "      <td>0</td>\n",
       "      <td>0</td>\n",
       "      <td>0</td>\n",
       "      <td>0</td>\n",
       "      <td>0</td>\n",
       "      <td>0</td>\n",
       "      <td>1</td>\n",
       "      <td>0</td>\n",
       "      <td>0</td>\n",
       "      <td>0</td>\n",
       "      <td>0</td>\n",
       "      <td>0</td>\n",
       "      <td>0</td>\n",
       "      <td>0</td>\n",
       "      <td>0</td>\n",
       "      <td>0</td>\n",
       "      <td>0</td>\n",
       "      <td>1</td>\n",
       "      <td>0</td>\n",
       "      <td>0</td>\n",
       "      <td>0</td>\n",
       "      <td>0</td>\n",
       "      <td>0</td>\n",
       "      <td>0</td>\n",
       "      <td>0</td>\n",
       "      <td>0</td>\n",
       "      <td>0</td>\n",
       "      <td>0</td>\n",
       "      <td>0</td>\n",
       "      <td>0</td>\n",
       "      <td>0</td>\n",
       "      <td>0</td>\n",
       "      <td>0</td>\n",
       "      <td>0</td>\n",
       "      <td>0</td>\n",
       "      <td>...</td>\n",
       "      <td>0</td>\n",
       "      <td>0</td>\n",
       "      <td>0</td>\n",
       "      <td>0</td>\n",
       "      <td>0</td>\n",
       "      <td>0</td>\n",
       "      <td>0</td>\n",
       "      <td>0</td>\n",
       "      <td>0</td>\n",
       "      <td>0</td>\n",
       "      <td>0</td>\n",
       "      <td>0</td>\n",
       "      <td>0</td>\n",
       "      <td>0</td>\n",
       "      <td>0</td>\n",
       "      <td>0</td>\n",
       "      <td>0</td>\n",
       "      <td>0</td>\n",
       "      <td>0</td>\n",
       "      <td>0</td>\n",
       "      <td>0</td>\n",
       "      <td>0</td>\n",
       "      <td>0</td>\n",
       "      <td>0</td>\n",
       "      <td>0</td>\n",
       "      <td>0</td>\n",
       "      <td>0</td>\n",
       "      <td>0</td>\n",
       "      <td>0</td>\n",
       "      <td>0</td>\n",
       "      <td>0</td>\n",
       "      <td>0</td>\n",
       "      <td>0</td>\n",
       "      <td>0</td>\n",
       "      <td>0</td>\n",
       "      <td>0</td>\n",
       "      <td>0</td>\n",
       "      <td>0</td>\n",
       "      <td>0</td>\n",
       "      <td>0</td>\n",
       "    </tr>\n",
       "    <tr>\n",
       "      <th>37896</th>\n",
       "      <td>0</td>\n",
       "      <td>0</td>\n",
       "      <td>0</td>\n",
       "      <td>0</td>\n",
       "      <td>0</td>\n",
       "      <td>0</td>\n",
       "      <td>0</td>\n",
       "      <td>0</td>\n",
       "      <td>0</td>\n",
       "      <td>0</td>\n",
       "      <td>0</td>\n",
       "      <td>0</td>\n",
       "      <td>0</td>\n",
       "      <td>0</td>\n",
       "      <td>0</td>\n",
       "      <td>0</td>\n",
       "      <td>0</td>\n",
       "      <td>0</td>\n",
       "      <td>0</td>\n",
       "      <td>0</td>\n",
       "      <td>0</td>\n",
       "      <td>0</td>\n",
       "      <td>0</td>\n",
       "      <td>0</td>\n",
       "      <td>0</td>\n",
       "      <td>0</td>\n",
       "      <td>0</td>\n",
       "      <td>0</td>\n",
       "      <td>0</td>\n",
       "      <td>0</td>\n",
       "      <td>0</td>\n",
       "      <td>0</td>\n",
       "      <td>0</td>\n",
       "      <td>0</td>\n",
       "      <td>0</td>\n",
       "      <td>0</td>\n",
       "      <td>0</td>\n",
       "      <td>0</td>\n",
       "      <td>0</td>\n",
       "      <td>0</td>\n",
       "      <td>...</td>\n",
       "      <td>0</td>\n",
       "      <td>0</td>\n",
       "      <td>0</td>\n",
       "      <td>0</td>\n",
       "      <td>0</td>\n",
       "      <td>0</td>\n",
       "      <td>0</td>\n",
       "      <td>0</td>\n",
       "      <td>0</td>\n",
       "      <td>0</td>\n",
       "      <td>0</td>\n",
       "      <td>0</td>\n",
       "      <td>0</td>\n",
       "      <td>0</td>\n",
       "      <td>0</td>\n",
       "      <td>0</td>\n",
       "      <td>0</td>\n",
       "      <td>0</td>\n",
       "      <td>0</td>\n",
       "      <td>0</td>\n",
       "      <td>0</td>\n",
       "      <td>0</td>\n",
       "      <td>0</td>\n",
       "      <td>0</td>\n",
       "      <td>0</td>\n",
       "      <td>0</td>\n",
       "      <td>0</td>\n",
       "      <td>0</td>\n",
       "      <td>0</td>\n",
       "      <td>0</td>\n",
       "      <td>0</td>\n",
       "      <td>0</td>\n",
       "      <td>0</td>\n",
       "      <td>0</td>\n",
       "      <td>0</td>\n",
       "      <td>0</td>\n",
       "      <td>1</td>\n",
       "      <td>0</td>\n",
       "      <td>0</td>\n",
       "      <td>0</td>\n",
       "    </tr>\n",
       "    <tr>\n",
       "      <th>37897</th>\n",
       "      <td>0</td>\n",
       "      <td>0</td>\n",
       "      <td>0</td>\n",
       "      <td>0</td>\n",
       "      <td>0</td>\n",
       "      <td>0</td>\n",
       "      <td>0</td>\n",
       "      <td>0</td>\n",
       "      <td>0</td>\n",
       "      <td>0</td>\n",
       "      <td>0</td>\n",
       "      <td>0</td>\n",
       "      <td>0</td>\n",
       "      <td>0</td>\n",
       "      <td>0</td>\n",
       "      <td>0</td>\n",
       "      <td>0</td>\n",
       "      <td>0</td>\n",
       "      <td>0</td>\n",
       "      <td>0</td>\n",
       "      <td>0</td>\n",
       "      <td>0</td>\n",
       "      <td>0</td>\n",
       "      <td>0</td>\n",
       "      <td>0</td>\n",
       "      <td>0</td>\n",
       "      <td>0</td>\n",
       "      <td>0</td>\n",
       "      <td>0</td>\n",
       "      <td>0</td>\n",
       "      <td>0</td>\n",
       "      <td>0</td>\n",
       "      <td>0</td>\n",
       "      <td>0</td>\n",
       "      <td>0</td>\n",
       "      <td>0</td>\n",
       "      <td>0</td>\n",
       "      <td>0</td>\n",
       "      <td>0</td>\n",
       "      <td>0</td>\n",
       "      <td>...</td>\n",
       "      <td>0</td>\n",
       "      <td>0</td>\n",
       "      <td>0</td>\n",
       "      <td>0</td>\n",
       "      <td>0</td>\n",
       "      <td>0</td>\n",
       "      <td>0</td>\n",
       "      <td>0</td>\n",
       "      <td>1</td>\n",
       "      <td>0</td>\n",
       "      <td>0</td>\n",
       "      <td>0</td>\n",
       "      <td>0</td>\n",
       "      <td>0</td>\n",
       "      <td>0</td>\n",
       "      <td>0</td>\n",
       "      <td>0</td>\n",
       "      <td>0</td>\n",
       "      <td>0</td>\n",
       "      <td>0</td>\n",
       "      <td>0</td>\n",
       "      <td>0</td>\n",
       "      <td>0</td>\n",
       "      <td>0</td>\n",
       "      <td>0</td>\n",
       "      <td>0</td>\n",
       "      <td>0</td>\n",
       "      <td>0</td>\n",
       "      <td>0</td>\n",
       "      <td>0</td>\n",
       "      <td>0</td>\n",
       "      <td>0</td>\n",
       "      <td>0</td>\n",
       "      <td>0</td>\n",
       "      <td>0</td>\n",
       "      <td>0</td>\n",
       "      <td>0</td>\n",
       "      <td>0</td>\n",
       "      <td>0</td>\n",
       "      <td>0</td>\n",
       "    </tr>\n",
       "    <tr>\n",
       "      <th>37898</th>\n",
       "      <td>0</td>\n",
       "      <td>0</td>\n",
       "      <td>0</td>\n",
       "      <td>0</td>\n",
       "      <td>0</td>\n",
       "      <td>0</td>\n",
       "      <td>0</td>\n",
       "      <td>0</td>\n",
       "      <td>0</td>\n",
       "      <td>0</td>\n",
       "      <td>0</td>\n",
       "      <td>0</td>\n",
       "      <td>0</td>\n",
       "      <td>0</td>\n",
       "      <td>0</td>\n",
       "      <td>0</td>\n",
       "      <td>0</td>\n",
       "      <td>0</td>\n",
       "      <td>0</td>\n",
       "      <td>0</td>\n",
       "      <td>0</td>\n",
       "      <td>0</td>\n",
       "      <td>1</td>\n",
       "      <td>0</td>\n",
       "      <td>0</td>\n",
       "      <td>0</td>\n",
       "      <td>0</td>\n",
       "      <td>0</td>\n",
       "      <td>0</td>\n",
       "      <td>0</td>\n",
       "      <td>0</td>\n",
       "      <td>0</td>\n",
       "      <td>0</td>\n",
       "      <td>0</td>\n",
       "      <td>0</td>\n",
       "      <td>1</td>\n",
       "      <td>0</td>\n",
       "      <td>0</td>\n",
       "      <td>0</td>\n",
       "      <td>1</td>\n",
       "      <td>...</td>\n",
       "      <td>0</td>\n",
       "      <td>0</td>\n",
       "      <td>0</td>\n",
       "      <td>0</td>\n",
       "      <td>0</td>\n",
       "      <td>0</td>\n",
       "      <td>0</td>\n",
       "      <td>0</td>\n",
       "      <td>0</td>\n",
       "      <td>0</td>\n",
       "      <td>0</td>\n",
       "      <td>0</td>\n",
       "      <td>0</td>\n",
       "      <td>0</td>\n",
       "      <td>0</td>\n",
       "      <td>0</td>\n",
       "      <td>0</td>\n",
       "      <td>0</td>\n",
       "      <td>0</td>\n",
       "      <td>0</td>\n",
       "      <td>0</td>\n",
       "      <td>0</td>\n",
       "      <td>0</td>\n",
       "      <td>0</td>\n",
       "      <td>0</td>\n",
       "      <td>0</td>\n",
       "      <td>0</td>\n",
       "      <td>0</td>\n",
       "      <td>0</td>\n",
       "      <td>0</td>\n",
       "      <td>0</td>\n",
       "      <td>0</td>\n",
       "      <td>0</td>\n",
       "      <td>0</td>\n",
       "      <td>0</td>\n",
       "      <td>0</td>\n",
       "      <td>0</td>\n",
       "      <td>0</td>\n",
       "      <td>0</td>\n",
       "      <td>0</td>\n",
       "    </tr>\n",
       "  </tbody>\n",
       "</table>\n",
       "<p>37899 rows × 1500 columns</p>\n",
       "</div>"
      ],
      "text/plain": [
       "       آب  آت  آتار  آثار  آخر  آد  آدرس  ...  یاف  یافتن  یخ  یه  یک  یکبار  یکس\n",
       "0       0   0     0     0    0   0     0  ...    0      0   0   0   0      0    0\n",
       "1       0   0     0     0    1   0     0  ...    0      0   0   0   0      0    0\n",
       "2       2   0     0     0    0   0     0  ...    0      0   0   0   0      0    0\n",
       "3       0   0     0     0    0   0     0  ...    0      0   0   0   0      0    0\n",
       "4       0   0     0     0    0   0     0  ...    0      0   0   0   0      0    0\n",
       "...    ..  ..   ...   ...  ...  ..   ...  ...  ...    ...  ..  ..  ..    ...  ...\n",
       "37894   0   0     0     0    0   0     0  ...    0      0   0   0   0      0    0\n",
       "37895   0   0     0     0    0   0     0  ...    0      0   0   0   0      0    0\n",
       "37896   0   0     0     0    0   0     0  ...    0      0   0   1   0      0    0\n",
       "37897   0   0     0     0    0   0     0  ...    0      0   0   0   0      0    0\n",
       "37898   0   0     0     0    0   0     0  ...    0      0   0   0   0      0    0\n",
       "\n",
       "[37899 rows x 1500 columns]"
      ]
     },
     "execution_count": 46,
     "metadata": {
      "tags": []
     },
     "output_type": "execute_result"
    }
   ],
   "source": [
    "# show the words and the vectors by the bag of words\n",
    "results = pd.DataFrame(x_train, columns=matrix.get_feature_names())\n",
    "results"
   ]
  },
  {
   "cell_type": "markdown",
   "metadata": {
    "id": "CGqp1h6a1PrP"
   },
   "source": [
    "<h2>Training the data</h2>"
   ]
  },
  {
   "cell_type": "code",
   "execution_count": null,
   "metadata": {
    "colab": {
     "base_uri": "https://localhost:8080/"
    },
    "id": "k3Dod2i1g6gE",
    "outputId": "9325fa99-fd23-49dd-bfc4-26367c5db994"
   },
   "outputs": [
    {
     "name": "stdout",
     "output_type": "stream",
     "text": [
      "testing\n"
     ]
    }
   ],
   "source": [
    "# create svm for training (it takes almost 30 minutes)\n",
    "from sklearn.svm import SVC as SVM\n",
    "clf = SVM()\n",
    "clf.fit(x_train,y_train.astype(\"int\"))\n",
    "print(\"testing\")\n",
    "pred = clf.predict(x_test)"
   ]
  },
  {
   "cell_type": "code",
   "execution_count": null,
   "metadata": {
    "id": "vi5iWJgEuHNN"
   },
   "outputs": [],
   "source": [
    "# Saving our model\n",
    "import pickle\n",
    "loaded_model = pickle.load(open(\"svm.sav\", 'rb'))\n",
    "pickle.dump(clf, open(\"svm1.sav\", 'wb'))"
   ]
  },
  {
   "cell_type": "code",
   "execution_count": null,
   "metadata": {
    "colab": {
     "base_uri": "https://localhost:8080/"
    },
    "id": "i9UaRWcZsCgq",
    "outputId": "cd21fa3a-dc2e-48e7-e9f3-0f2b14fb8858"
   },
   "outputs": [
    {
     "data": {
      "text/plain": [
       "69.2137203166227"
      ]
     },
     "execution_count": 28,
     "metadata": {
      "tags": []
     },
     "output_type": "execute_result"
    }
   ],
   "source": [
    "# calculate accuracy on validation data\n",
    "acc = 0\n",
    "for i in range(0, len(y_test)):\n",
    "  if pred[i] == y_test[i]:\n",
    "    acc = acc + 1\n",
    "(acc/len(y_test))*100"
   ]
  },
  {
   "cell_type": "code",
   "execution_count": null,
   "metadata": {
    "id": "IYS_vPCnvyNS"
   },
   "outputs": [],
   "source": [
    "# predictions = loaded_model.predict(x_real_test)"
   ]
  },
  {
   "cell_type": "code",
   "execution_count": null,
   "metadata": {
    "id": "swUkuJcGz6Ci"
   },
   "outputs": [],
   "source": [
    "# adding data to our dataframe\n",
    "data_test[\"label\"] = predictions "
   ]
  },
  {
   "cell_type": "markdown",
   "metadata": {
    "id": "U0Ml5I0_1nIM"
   },
   "source": [
    "<h2> <b>word2vec</b> </h2>"
   ]
  },
  {
   "cell_type": "code",
   "execution_count": null,
   "metadata": {
    "id": "jof72KjECT0u"
   },
   "outputs": [],
   "source": [
    "# tokenize whole data(test and train) to give them to word2vec model\n",
    "\n",
    "xx_vw = [] #each row is a sentence with its words are tokenized for train data\n",
    "for i in range(0, len(data[\"description_fa\"])):\n",
    "  xx_vw.append(word_tokenize(data[\"description_fa\"][i]))\n",
    "\n",
    "\n",
    "xx_vw_test = [] #each row is a sentence with its words are tokenized for test data\n",
    "for i in range(0, len(data_test[\"description_fa\"])):\n",
    "  xx_vw_test.append(word_tokenize(data_test[\"description_fa\"][i]))"
   ]
  },
  {
   "cell_type": "code",
   "execution_count": null,
   "metadata": {
    "id": "gcOZeL_WCReD"
   },
   "outputs": [],
   "source": [
    "# create and train word2vec model\n",
    "from gensim.models import Word2Vec\n",
    "mod = Word2Vec(sentences=xx_vw, window=5, min_count=1, workers=4)\n",
    "model_vw = mod.train(sentences= xx_vw, epochs=50, total_examples=len(xx_vw))"
   ]
  },
  {
   "cell_type": "code",
   "execution_count": null,
   "metadata": {
    "colab": {
     "base_uri": "https://localhost:8080/"
    },
    "id": "4tI_oYc522rv",
    "outputId": "146755be-f22f-48b5-f031-00cf10458932"
   },
   "outputs": [
    {
     "name": "stderr",
     "output_type": "stream",
     "text": [
      "/usr/local/lib/python3.7/dist-packages/ipykernel_launcher.py:3: DeprecationWarning: Call to deprecated `__getitem__` (Method will be removed in 4.0.0, use self.wv.__getitem__() instead).\n",
      "  This is separate from the ipykernel package so we can avoid doing imports until\n"
     ]
    }
   ],
   "source": [
    "# create a list to save the vocabulary vectors to show with tsne\n",
    "X = []\n",
    "for i in mod.wv.vocab:\n",
    "  X.append(mod[i])\n",
    "X = np.array(X)"
   ]
  },
  {
   "cell_type": "code",
   "execution_count": null,
   "metadata": {
    "id": "rolopmB8Ca_g"
   },
   "outputs": [],
   "source": [
    "# create a list to save the vocabulary\n",
    "words = []\n",
    "for i in mod.wv.vocab:\n",
    "  words.append(i)"
   ]
  },
  {
   "cell_type": "code",
   "execution_count": null,
   "metadata": {
    "id": "lljWwUHI6ftZ"
   },
   "outputs": [],
   "source": [
    "# reducing data dimension\n",
    "\n",
    "tsne = TSNE(n_components=2)\n",
    "X_tsne = tsne.fit_transform(X)"
   ]
  },
  {
   "cell_type": "code",
   "execution_count": null,
   "metadata": {
    "colab": {
     "base_uri": "https://localhost:8080/",
     "height": 424
    },
    "id": "yUOtLD9c3gUi",
    "outputId": "77d7b622-9ff5-4b62-f458-f3b371f4113a"
   },
   "outputs": [
    {
     "data": {
      "text/html": [
       "<div>\n",
       "<style scoped>\n",
       "    .dataframe tbody tr th:only-of-type {\n",
       "        vertical-align: middle;\n",
       "    }\n",
       "\n",
       "    .dataframe tbody tr th {\n",
       "        vertical-align: top;\n",
       "    }\n",
       "\n",
       "    .dataframe thead th {\n",
       "        text-align: right;\n",
       "    }\n",
       "</style>\n",
       "<table border=\"1\" class=\"dataframe\">\n",
       "  <thead>\n",
       "    <tr style=\"text-align: right;\">\n",
       "      <th></th>\n",
       "      <th>x</th>\n",
       "      <th>y</th>\n",
       "    </tr>\n",
       "  </thead>\n",
       "  <tbody>\n",
       "    <tr>\n",
       "      <th>باز</th>\n",
       "      <td>-32.918629</td>\n",
       "      <td>-6.749569</td>\n",
       "    </tr>\n",
       "    <tr>\n",
       "      <th>مین</th>\n",
       "      <td>-16.716297</td>\n",
       "      <td>41.199577</td>\n",
       "    </tr>\n",
       "    <tr>\n",
       "      <th>روب</th>\n",
       "      <td>29.499065</td>\n",
       "      <td>-30.494104</td>\n",
       "    </tr>\n",
       "    <tr>\n",
       "      <th>برنامه</th>\n",
       "      <td>-10.763282</td>\n",
       "      <td>-41.825706</td>\n",
       "    </tr>\n",
       "    <tr>\n",
       "      <th>فکر</th>\n",
       "      <td>-22.879459</td>\n",
       "      <td>27.505150</td>\n",
       "    </tr>\n",
       "    <tr>\n",
       "      <th>...</th>\n",
       "      <td>...</td>\n",
       "      <td>...</td>\n",
       "    </tr>\n",
       "    <tr>\n",
       "      <th>دریدن</th>\n",
       "      <td>20.114393</td>\n",
       "      <td>-38.879700</td>\n",
       "    </tr>\n",
       "    <tr>\n",
       "      <th>حقیقتند</th>\n",
       "      <td>-16.736403</td>\n",
       "      <td>2.056716</td>\n",
       "    </tr>\n",
       "    <tr>\n",
       "      <th>کردنشین</th>\n",
       "      <td>6.888130</td>\n",
       "      <td>4.533368</td>\n",
       "    </tr>\n",
       "    <tr>\n",
       "      <th>گریختگ</th>\n",
       "      <td>-8.214622</td>\n",
       "      <td>-9.022532</td>\n",
       "    </tr>\n",
       "    <tr>\n",
       "      <th>کندند</th>\n",
       "      <td>19.965868</td>\n",
       "      <td>15.495915</td>\n",
       "    </tr>\n",
       "  </tbody>\n",
       "</table>\n",
       "<p>52339 rows × 2 columns</p>\n",
       "</div>"
      ],
      "text/plain": [
       "                 x          y\n",
       "باز     -32.918629  -6.749569\n",
       "مین     -16.716297  41.199577\n",
       "روب      29.499065 -30.494104\n",
       "برنامه  -10.763282 -41.825706\n",
       "فکر     -22.879459  27.505150\n",
       "...            ...        ...\n",
       "دریدن    20.114393 -38.879700\n",
       "حقیقتند -16.736403   2.056716\n",
       "کردنشین   6.888130   4.533368\n",
       "گریختگ   -8.214622  -9.022532\n",
       "کندند    19.965868  15.495915\n",
       "\n",
       "[52339 rows x 2 columns]"
      ]
     },
     "execution_count": 72,
     "metadata": {
      "tags": []
     },
     "output_type": "execute_result"
    }
   ],
   "source": [
    "# show the new data in pandas dataframe\n",
    "df = pd.DataFrame(X_tsne, index=words, columns=['x', 'y'])\n",
    "df"
   ]
  },
  {
   "cell_type": "code",
   "execution_count": null,
   "metadata": {
    "colab": {
     "base_uri": "https://localhost:8080/",
     "height": 283
    },
    "id": "_fSQmnD64aPb",
    "outputId": "53f999ab-acb2-4a30-eb22-34eecfcf3509"
   },
   "outputs": [
    {
     "data": {
      "text/plain": [
       "<matplotlib.collections.PathCollection at 0x7f69a51fee90>"
      ]
     },
     "execution_count": 81,
     "metadata": {
      "tags": []
     },
     "output_type": "execute_result"
    },
    {
     "data": {
      "image/png": "[encoded data removed]",
      "text/plain": [
       "<Figure size 432x288 with 1 Axes>"
      ]
     },
     "metadata": {
      "needs_background": "light",
      "tags": []
     },
     "output_type": "display_data"
    }
   ],
   "source": [
    "# showing vectors of word2vec\n",
    "fig = plt.figure()\n",
    "ax = fig.add_subplot(1, 1, 1)\n",
    "ax.scatter(df['x'], df['y'], s=1)"
   ]
  },
  {
   "cell_type": "code",
   "execution_count": null,
   "metadata": {
    "id": "an8oJP1DFbrw"
   },
   "outputs": [],
   "source": [
    "# create vector of each row of data! by summing the vector of each word in that row\n",
    "\n",
    "final_x_wv = [] #contatining the vectors of each rows of train data\n",
    "for i in range(0, len(data[\"description_fa\"])):\n",
    "  v = np.zeros((100, 1))\n",
    "  for j in range(0, len(xx_vw[i])): \n",
    "    v = v + mod.wv.get_vector(xx_vw[i][j]).reshape((100, 1)) \n",
    "\n",
    "  t = np.array(v)\n",
    "  t = t.astype(\"float64\") \n",
    "  final_x_wv.append(t)"
   ]
  },
  {
   "cell_type": "markdown",
   "metadata": {
    "id": "kTF-YdHEhwbt"
   },
   "source": [
    "Next cell is for LSTM netgwork. it tokenizes each data in the dataset so we can have a matrix contating datas that i each data we have the vectors of its containing words."
   ]
  },
  {
   "cell_type": "code",
   "execution_count": null,
   "metadata": {
    "id": "MJU5u6VQ_M-Y"
   },
   "outputs": [],
   "source": [
    "# create vector of each row of data with words tokenized\n",
    "\n",
    "word_x_wv_numeric = [] #contatining the vectors of each rows of train data with words tokenized\n",
    "for i in range(0, len(xx_vw)):\n",
    "  tmp = []\n",
    "  for j in range(0, len(xx_vw[i])):\n",
    "    tmp.append(mod.wv.get_vector(xx_vw[i][j]).reshape((100, 1)))\n",
    "\n",
    "  word_x_wv_numeric.append(tmp)"
   ]
  },
  {
   "cell_type": "code",
   "execution_count": null,
   "metadata": {
    "id": "wLbaMZ5yOn-v"
   },
   "outputs": [],
   "source": [
    "v = np.zeros((100, 1)) # zero vector\n",
    "final_word_x_wv_numeric = []\n",
    "for i in range(0, len(word_x_wv_numeric)):\n",
    "  if len(word_x_wv_numeric[i]) < 50:\n",
    "    for j in range(0, 50 - len(word_x_wv_numeric[i])):\n",
    "      word_x_wv_numeric[i].append(v)\n",
    "    t = np.array(word_x_wv_numeric[i])\n",
    "    final_word_x_wv_numeric.append(t)\n",
    "\n",
    "  elif len(word_x_wv_numeric[i]) >= 50:\n",
    "      tmp = np.array(word_x_wv_numeric[i])[:50, :, :]\n",
    "      final_word_x_wv_numeric.append(tmp)"
   ]
  },
  {
   "cell_type": "code",
   "execution_count": null,
   "metadata": {
    "id": "8fdiIEDXSIfR"
   },
   "outputs": [],
   "source": [
    "final_word_x_wv_numeric= np.squeeze(final_word_x_wv_numeric , axis=3) #removing axis=3 which is 1"
   ]
  },
  {
   "cell_type": "code",
   "execution_count": null,
   "metadata": {
    "id": "MAubXJRYKCx1"
   },
   "outputs": [],
   "source": [
    "# change final_x_wv to numpy array\n",
    "final_x_wv = np.array(final_x_wv)"
   ]
  },
  {
   "cell_type": "code",
   "execution_count": null,
   "metadata": {
    "colab": {
     "base_uri": "https://localhost:8080/"
    },
    "id": "8tbsEuvUK-sv",
    "outputId": "fb3f2bc7-8739-499b-8e53-ccc3c997fdfd"
   },
   "outputs": [
    {
     "data": {
      "text/plain": [
       "(37899, 100)"
      ]
     },
     "execution_count": 42,
     "metadata": {
      "tags": []
     },
     "output_type": "execute_result"
    }
   ],
   "source": [
    "# squeeze the last dimension which is euqal to one\n",
    "\n",
    "final_x_wv  = np.squeeze(final_x_wv , axis=2)\n",
    "final_x_wv.shape"
   ]
  },
  {
   "cell_type": "markdown",
   "metadata": {
    "id": "Z-uBY_ojQ3QF"
   },
   "source": [
    "Reducing the sentences dimension and plot them with labels in matplotlib"
   ]
  },
  {
   "cell_type": "code",
   "execution_count": null,
   "metadata": {
    "id": "AiRDbeccSLoF"
   },
   "outputs": [],
   "source": [
    "# squeez data for tsne and for neural network, removing axis=2 which is equal to one\n",
    "\n",
    "# final_x_wv  = np.squeeze(final_x_wv , axis=2)\n",
    "# final_x_wv.shape"
   ]
  },
  {
   "cell_type": "code",
   "execution_count": null,
   "metadata": {
    "id": "EpWalZOdKPaT"
   },
   "outputs": [],
   "source": [
    "# dimension reduction for train data\n",
    "\n",
    "tsne_wv = TSNE(n_components=2)\n",
    "X_tsne_wv = tsne_wv.fit_transform(final_x_wv)"
   ]
  },
  {
   "cell_type": "code",
   "execution_count": null,
   "metadata": {
    "colab": {
     "base_uri": "https://localhost:8080/",
     "height": 424
    },
    "id": "161y2w9UOAug",
    "outputId": "232a0411-0017-4604-bd79-a60aa8520da2"
   },
   "outputs": [
    {
     "data": {
      "text/html": [
       "<div>\n",
       "<style scoped>\n",
       "    .dataframe tbody tr th:only-of-type {\n",
       "        vertical-align: middle;\n",
       "    }\n",
       "\n",
       "    .dataframe tbody tr th {\n",
       "        vertical-align: top;\n",
       "    }\n",
       "\n",
       "    .dataframe thead th {\n",
       "        text-align: right;\n",
       "    }\n",
       "</style>\n",
       "<table border=\"1\" class=\"dataframe\">\n",
       "  <thead>\n",
       "    <tr style=\"text-align: right;\">\n",
       "      <th></th>\n",
       "      <th>x</th>\n",
       "      <th>y</th>\n",
       "      <th>label</th>\n",
       "    </tr>\n",
       "  </thead>\n",
       "  <tbody>\n",
       "    <tr>\n",
       "      <th>0</th>\n",
       "      <td>5.613850</td>\n",
       "      <td>-44.509953</td>\n",
       "      <td>1</td>\n",
       "    </tr>\n",
       "    <tr>\n",
       "      <th>1</th>\n",
       "      <td>17.060585</td>\n",
       "      <td>-3.830742</td>\n",
       "      <td>1</td>\n",
       "    </tr>\n",
       "    <tr>\n",
       "      <th>2</th>\n",
       "      <td>33.380016</td>\n",
       "      <td>2.276319</td>\n",
       "      <td>7</td>\n",
       "    </tr>\n",
       "    <tr>\n",
       "      <th>3</th>\n",
       "      <td>-20.600708</td>\n",
       "      <td>31.650822</td>\n",
       "      <td>7</td>\n",
       "    </tr>\n",
       "    <tr>\n",
       "      <th>4</th>\n",
       "      <td>-23.747295</td>\n",
       "      <td>13.741567</td>\n",
       "      <td>7</td>\n",
       "    </tr>\n",
       "    <tr>\n",
       "      <th>...</th>\n",
       "      <td>...</td>\n",
       "      <td>...</td>\n",
       "      <td>...</td>\n",
       "    </tr>\n",
       "    <tr>\n",
       "      <th>37894</th>\n",
       "      <td>9.713128</td>\n",
       "      <td>-50.378559</td>\n",
       "      <td>1</td>\n",
       "    </tr>\n",
       "    <tr>\n",
       "      <th>37895</th>\n",
       "      <td>-2.947710</td>\n",
       "      <td>-10.976546</td>\n",
       "      <td>1</td>\n",
       "    </tr>\n",
       "    <tr>\n",
       "      <th>37896</th>\n",
       "      <td>-27.692030</td>\n",
       "      <td>13.045506</td>\n",
       "      <td>7</td>\n",
       "    </tr>\n",
       "    <tr>\n",
       "      <th>37897</th>\n",
       "      <td>21.728626</td>\n",
       "      <td>-13.117060</td>\n",
       "      <td>1</td>\n",
       "    </tr>\n",
       "    <tr>\n",
       "      <th>37898</th>\n",
       "      <td>36.437813</td>\n",
       "      <td>20.193792</td>\n",
       "      <td>0</td>\n",
       "    </tr>\n",
       "  </tbody>\n",
       "</table>\n",
       "<p>37899 rows × 3 columns</p>\n",
       "</div>"
      ],
      "text/plain": [
       "               x          y  label\n",
       "0       5.613850 -44.509953      1\n",
       "1      17.060585  -3.830742      1\n",
       "2      33.380016   2.276319      7\n",
       "3     -20.600708  31.650822      7\n",
       "4     -23.747295  13.741567      7\n",
       "...          ...        ...    ...\n",
       "37894   9.713128 -50.378559      1\n",
       "37895  -2.947710 -10.976546      1\n",
       "37896 -27.692030  13.045506      7\n",
       "37897  21.728626 -13.117060      1\n",
       "37898  36.437813  20.193792      0\n",
       "\n",
       "[37899 rows x 3 columns]"
      ]
     },
     "execution_count": 86,
     "metadata": {
      "tags": []
     },
     "output_type": "execute_result"
    }
   ],
   "source": [
    "#create a dataframe for dimensions\n",
    "df_wv = pd.DataFrame(X_tsne_wv, columns=['x', 'y'])\n",
    "df_wv[\"label\"] = data[\"label\"]\n",
    "df_wv"
   ]
  },
  {
   "cell_type": "code",
   "execution_count": null,
   "metadata": {
    "colab": {
     "base_uri": "https://localhost:8080/",
     "height": 283
    },
    "id": "saq_046_OP1-",
    "outputId": "868759d6-23fb-40fe-9153-cbefc14c1f97"
   },
   "outputs": [
    {
     "data": {
      "text/plain": [
       "<matplotlib.collections.PathCollection at 0x7f69a7c46dd0>"
      ]
     },
     "execution_count": 91,
     "metadata": {
      "tags": []
     },
     "output_type": "execute_result"
    },
    {
     "data": {
      "image/png": "[encoded data removed]",
      "text/plain": [
       "<Figure size 432x288 with 1 Axes>"
      ]
     },
     "metadata": {
      "needs_background": "light",
      "tags": []
     },
     "output_type": "display_data"
    }
   ],
   "source": [
    "# ploting the data\n",
    "fig = plt.figure()\n",
    "ax = fig.add_subplot(1, 1, 1)\n",
    "colors = ['red','green','blue','purple','yellow','brown','orange','grey','olive', 'limegreen']\n",
    "ax.scatter(df_wv['x'], df_wv['y'], s=1, c=df_wv[\"label\"], cmap=matplotlib.colors.ListedColormap(colors))"
   ]
  },
  {
   "cell_type": "markdown",
   "metadata": {
    "id": "d34jq6utjk68"
   },
   "source": [
    "Creating the vector for the test data"
   ]
  },
  {
   "cell_type": "code",
   "execution_count": null,
   "metadata": {
    "id": "MOU2BB7GIJf6"
   },
   "outputs": [],
   "source": [
    "# create vector of each row of the test data! by summing the vector of each word in that row\n",
    "\n",
    "final_x_wv_test = [] #contatining the vectors of each rows of test data\n",
    "for i in range(0, len(data_test[\"description_fa\"])):\n",
    "  v = np.zeros((100, 1))\n",
    "  for j in range(0, len(xx_vw_test[i])): \n",
    "    if xx_vw_test[i][j] in mod.wv.vocab:\n",
    "      v = v + mod.wv.get_vector(xx_vw_test[i][j]).reshape((100, 1)) \n",
    "\n",
    "  t = np.array(v)\n",
    "  t = t.astype(\"float64\") \n",
    "  final_x_wv_test.append(t)"
   ]
  },
  {
   "cell_type": "code",
   "execution_count": null,
   "metadata": {
    "id": "ckDIx-bDIZL5"
   },
   "outputs": [],
   "source": [
    "# create vector of each row of data with words tokenized on test data\n",
    "\n",
    "word_x_wv_numeric_test = [] #contatining the vectors of each rows of train data with words tokenized\n",
    "for i in range(0, len(xx_vw_test)):\n",
    "  tmp = []\n",
    "  for j in range(0, len(xx_vw_test[i])):\n",
    "    if xx_vw_test[i][j] in mod.wv.vocab:\n",
    "      tmp.append(mod.wv.get_vector(xx_vw_test[i][j]).reshape((100, 1)))\n",
    "\n",
    "  word_x_wv_numeric_test.append(tmp)"
   ]
  },
  {
   "cell_type": "code",
   "execution_count": null,
   "metadata": {
    "id": "uirgSnpHI4gc"
   },
   "outputs": [],
   "source": [
    "v = np.zeros((100, 1))\n",
    "final_word_x_wv_numeric_test = []\n",
    "for i in range(0, len(word_x_wv_numeric_test)):\n",
    "  if len(word_x_wv_numeric_test[i]) < 50:\n",
    "    for j in range(0, 50 - len(word_x_wv_numeric_test[i])):\n",
    "      word_x_wv_numeric_test[i].append(v)\n",
    "    t = np.array(word_x_wv_numeric_test[i])\n",
    "    final_word_x_wv_numeric_test.append(t)\n",
    "\n",
    "  elif len(word_x_wv_numeric_test[i]) >= 50:\n",
    "      tmp = np.array(word_x_wv_numeric_test[i])[:50, :, :]\n",
    "      final_word_x_wv_numeric_test.append(tmp)"
   ]
  },
  {
   "cell_type": "code",
   "execution_count": null,
   "metadata": {
    "id": "Vnd1Mj4rJ2zd"
   },
   "outputs": [],
   "source": [
    "final_word_x_wv_numeric_test = np.array(final_word_x_wv_numeric_test) "
   ]
  },
  {
   "cell_type": "code",
   "execution_count": null,
   "metadata": {
    "id": "twRj3hmqMDL8"
   },
   "outputs": [],
   "source": [
    "final_word_x_wv_numeric_test = np.squeeze(final_word_x_wv_numeric_test, axis=3)"
   ]
  },
  {
   "cell_type": "code",
   "execution_count": null,
   "metadata": {
    "colab": {
     "base_uri": "https://localhost:8080/"
    },
    "id": "lhCp6nUyLIf9",
    "outputId": "f2b81789-1930-492e-ac65-3853863ee6e7"
   },
   "outputs": [
    {
     "data": {
      "text/plain": [
       "(10000, 100)"
      ]
     },
     "execution_count": 43,
     "metadata": {
      "tags": []
     },
     "output_type": "execute_result"
    }
   ],
   "source": [
    "# squeez data for tsne and for neural network, removing axis=2 which is equal to one\n",
    "\n",
    "final_x_wv_test  = np.squeeze(final_x_wv_test , axis=2)\n",
    "final_x_wv_test.shape"
   ]
  },
  {
   "cell_type": "code",
   "execution_count": null,
   "metadata": {
    "id": "jMFdkMfsR18m"
   },
   "outputs": [],
   "source": [
    "# dimension reduction\n",
    "\n",
    "tsne_wv_test = TSNE(n_components=2)\n",
    "X_tsne_wv_test = tsne_wv.fit_transform(final_x_wv_test)"
   ]
  },
  {
   "cell_type": "markdown",
   "metadata": {
    "id": "F-H20PswbTIB"
   },
   "source": [
    "---------------------------------------------------------------------------------------------------------------------------------------------------------------------------"
   ]
  },
  {
   "cell_type": "markdown",
   "metadata": {
    "id": "TJhVHZGj0DZ9"
   },
   "source": [
    "<h2>Logistic Rgression</h2>"
   ]
  },
  {
   "cell_type": "code",
   "execution_count": null,
   "metadata": {
    "colab": {
     "base_uri": "https://localhost:8080/"
    },
    "id": "59xSjmWomeFU",
    "outputId": "dd780d78-a184-4bcf-949f-cb68dab55509"
   },
   "outputs": [
    {
     "data": {
      "text/plain": [
       "LogisticRegression(C=1.0, class_weight=None, dual=False, fit_intercept=True,\n",
       "                   intercept_scaling=1, l1_ratio=None, max_iter=2000,\n",
       "                   multi_class='auto', n_jobs=None, penalty='l2',\n",
       "                   random_state=None, solver='lbfgs', tol=0.0001, verbose=0,\n",
       "                   warm_start=False)"
      ]
     },
     "execution_count": 30,
     "metadata": {
      "tags": []
     },
     "output_type": "execute_result"
    }
   ],
   "source": [
    "from sklearn.linear_model import LogisticRegression\n",
    "\n",
    "classifier = LogisticRegression(max_iter=2000)\n",
    "classifier.fit(final_x_wv,y_train.astype(\"int\"))"
   ]
  },
  {
   "cell_type": "code",
   "execution_count": null,
   "metadata": {
    "id": "Y2frceGlms8U"
   },
   "outputs": [],
   "source": [
    "p = classifier.predict(final_x_wv_test)"
   ]
  },
  {
   "cell_type": "markdown",
   "metadata": {
    "id": "djup0R96OpmW"
   },
   "source": [
    "-------------------------------------------------"
   ]
  },
  {
   "cell_type": "markdown",
   "metadata": {
    "id": "86XLKWjbOsxL"
   },
   "source": [
    "<h2><b>LSTM</b></h2>"
   ]
  },
  {
   "cell_type": "markdown",
   "metadata": {
    "id": "LeTZfhA6u_ZM"
   },
   "source": [
    "pytorch version\n",
    "\n",
    "\n",
    "---\n",
    "\n"
   ]
  },
  {
   "cell_type": "code",
   "execution_count": null,
   "metadata": {
    "id": "GgTKVOSiuGG_"
   },
   "outputs": [],
   "source": [
    "# for pytorch version\n",
    "\n",
    "import torch\n",
    "import torch.nn as nn\n",
    "import torch.nn.functional as F\n",
    "import torch.optim as optim"
   ]
  },
  {
   "cell_type": "code",
   "execution_count": null,
   "metadata": {
    "id": "IrG5RzwpuKrG"
   },
   "outputs": [],
   "source": [
    "from torch.nn.utils.rnn import pack_padded_sequence, pad_packed_sequence\n",
    "\n",
    "\n",
    "class LSTMClassifier(nn.Module):\n",
    "\n",
    "\tdef __init__(self, vocab_size, embedding_dim, hidden_dim, output_size):\n",
    "\n",
    "\t\tsuper(LSTMClassifier, self).__init__()\n",
    "\n",
    "\t\tself.embedding_dim = embedding_dim\n",
    "\t\tself.hidden_dim = hidden_dim\n",
    "\t\tself.vocab_size = vocab_size\n",
    "\n",
    "\t\tself.embedding = nn.Embedding(vocab_size, embedding_dim)\n",
    "\t\tself.lstm = nn.LSTM(embedding_dim, hidden_dim, num_layers=1)\n",
    "\n",
    "\t\tself.hidden2out = nn.Linear(hidden_dim, output_size)\n",
    "\t\tself.softmax = nn.LogSoftmax()\n",
    "\n",
    "\t\tself.dropout_layer = nn.Dropout(p=0.2)\n",
    "\n",
    "\n",
    "\tdef init_hidden(self, batch_size):\n",
    "\t\treturn(autograd.Variable(torch.randn(1, batch_size, self.hidden_dim)),\n",
    "\t\t\t\t\t\tautograd.Variable(torch.randn(1, batch_size, self.hidden_dim)))\n",
    "\n",
    "\n",
    "\tdef forward(self, batch, lengths):\n",
    "\t\t\n",
    "\t\tself.hidden = self.init_hidden(batch.size(-1))\n",
    "\n",
    "\t\tembeds = self.embedding(batch)\n",
    "\t\tpacked_input = pack_padded_sequence(embeds, lengths)\n",
    "\t\toutputs, (ht, ct) = self.lstm(packed_input, self.hidden)\n",
    "\n",
    "\t\t# ht is the last hidden state of the sequences\n",
    "\t\t# ht = (1 x batch_size x hidden_dim)\n",
    "\t\t# ht[-1] = (batch_size x hidden_dim)\n",
    "\t\toutput = self.dropout_layer(ht[-1])\n",
    "\t\toutput = self.hidden2out(output)\n",
    "\t\toutput = self.softmax(output)\n",
    "\n",
    "\t\treturn output"
   ]
  },
  {
   "cell_type": "code",
   "execution_count": null,
   "metadata": {
    "id": "MFSWLAW7uiNW"
   },
   "outputs": [],
   "source": [
    "import os\n",
    "import sys\n",
    "import argparse\n",
    "import time\n",
    "import random\n",
    "import utils\n",
    "import pdb\n",
    "\n",
    "import torch\n",
    "import torch.autograd as autograd\n",
    "import torch.nn as nn\n",
    "import torch.functional as F\n",
    "import torch.optim as optim\n",
    "\n",
    "from torch.utils.data import Dataset, DataLoader\n",
    "from torch.nn.utils.rnn import pack_padded_sequence, pad_packed_sequence\n",
    "from sklearn.metrics import classification_report, confusion_matrix, accuracy_score\n",
    "from data import PaddedTensorDataset\n",
    "from data import TextLoader\n",
    "from model import LSTMClassifier\n",
    "\n",
    "\n",
    "def main():\n",
    "\tparser = argparse.ArgumentParser()\n",
    "\tparser.add_argument('--data_dir', type=str, default='toy_data/names',\n",
    "\t\t\t\t\t\t\t\t\t\t\thelp='data_directory')\n",
    "\tparser.add_argument('--hidden_dim', type=int, default=32,\n",
    "\t\t\t\t\t\t\t\t\t\t\thelp='LSTM hidden dimensions')\n",
    "\tparser.add_argument('--batch_size', type=int, default=32,\n",
    "\t\t\t\t\t\t\t\t\t\t\thelp='size for each minibatch')\n",
    "\tparser.add_argument('--num_epochs', type=int, default=5,\n",
    "\t\t\t\t\t\t\t\t\t\t\thelp='maximum number of epochs')\n",
    "\tparser.add_argument('--char_dim', type=int, default=128,\n",
    "\t\t\t\t\t\t\t\t\t\t\thelp='character embedding dimensions')\n",
    "\tparser.add_argument('--learning_rate', type=float, default=0.01,\n",
    "\t\t\t\t\t\t\t\t\t\t\thelp='initial learning rate')\n",
    "\tparser.add_argument('--weight_decay', type=float, default=1e-4,\n",
    "\t\t\t\t\t\t\t\t\t\t\thelp='weight_decay rate')\n",
    "\tparser.add_argument('--seed', type=int, default=123,\n",
    "\t\t\t\t\t\t\t\t\t\t\thelp='seed for random initialisation')\n",
    "\targs = parser.parse_args()\n",
    "\ttrain(args)\n",
    "\n",
    "\n",
    "def apply(model, criterion, batch, targets, lengths):\n",
    "    pred = model(torch.autograd.Variable(batch), lengths.cpu().numpy())\n",
    "    loss = criterion(pred, torch.autograd.Variable(targets))\n",
    "    return pred, loss\n",
    "\n",
    "\n",
    "def train_model(model, optimizer, train, dev, x_to_ix, y_to_ix, batch_size, max_epochs):\n",
    "    criterion = nn.NLLLoss(size_average=False)\n",
    "    for epoch in range(max_epochs):\n",
    "        print('Epoch:', epoch)\n",
    "        y_true = list()\n",
    "        y_pred = list()\n",
    "        total_loss = 0\n",
    "        for batch, targets, lengths, raw_data in utils.create_dataset(train, x_to_ix, y_to_ix, batch_size=batch_size):\n",
    "            batch, targets, lengths = utils.sort_batch(batch, targets, lengths)\n",
    "            model.zero_grad()\n",
    "            pred, loss = apply(model, criterion, batch, targets, lengths)\n",
    "            loss.backward()\n",
    "            optimizer.step()\n",
    "            \n",
    "            pred_idx = torch.max(pred, 1)[1]\n",
    "            y_true += list(targets.int())\n",
    "            y_pred += list(pred_idx.data.int())\n",
    "            total_loss += loss\n",
    "        acc = accuracy_score(y_true, y_pred)\n",
    "        val_loss, val_acc = evaluate_validation_set(model, dev, x_to_ix, y_to_ix, criterion)\n",
    "        print(\"Train loss: {} - acc: {} \\nValidation loss: {} - acc: {}\".format(total_loss.data.float()/len(train), acc,\n",
    "                                                                                val_loss, val_acc))\n",
    "    return model\n",
    "\n",
    "\n",
    "def evaluate_validation_set(model, devset, x_to_ix, y_to_ix, criterion):\n",
    "    y_true = list()\n",
    "    y_pred = list()\n",
    "    total_loss = 0\n",
    "    for batch, targets, lengths, raw_data in utils.create_dataset(devset, x_to_ix, y_to_ix, batch_size=1):\n",
    "        batch, targets, lengths = utils.sort_batch(batch, targets, lengths)\n",
    "        pred, loss = apply(model, criterion, batch, targets, lengths)\n",
    "        pred_idx = torch.max(pred, 1)[1]\n",
    "        y_true += list(targets.int())\n",
    "        y_pred += list(pred_idx.data.int())\n",
    "        total_loss += loss\n",
    "    acc = accuracy_score(y_true, y_pred)\n",
    "    return total_loss.data.float()/len(devset), acc\n",
    "\n",
    "\n",
    "def evaluate_test_set(model, test, x_to_ix, y_to_ix):\n",
    "    y_true = list()\n",
    "    y_pred = list()\n",
    "\n",
    "    for batch, targets, lengths, raw_data in utils.create_dataset(test, x_to_ix, y_to_ix, batch_size=1):\n",
    "        batch, targets, lengths = utils.sort_batch(batch, targets, lengths)\n",
    "\n",
    "        pred = model(torch.autograd.Variable(batch), lengths.cpu().numpy())\n",
    "        pred_idx = torch.max(pred, 1)[1]\n",
    "        y_true += list(targets.int())\n",
    "        y_pred += list(pred_idx.data.int())\n",
    "\n",
    "    print(len(y_true), len(y_pred))\n",
    "    print(classification_report(y_true, y_pred))\n",
    "    print(confusion_matrix(y_true, y_pred))\n",
    "\n",
    "\n",
    "def train(args):\n",
    "\n",
    "\trandom.seed(args.seed)\n",
    "\tdata_loader = TextLoader(args.data_dir)\n",
    "\n",
    "\ttrain_data = data_loader.train_data\n",
    "\tdev_data = data_loader.dev_data\n",
    "\ttest_data = data_loader.test_data\n",
    "\n",
    "\tchar_vocab = data_loader.token2id\n",
    "\ttag_vocab = data_loader.tag2id\n",
    "\tchar_vocab_size = len(char_vocab)\n",
    "\n",
    "\tprint('Training samples:', len(train_data))\n",
    "\tprint('Valid samples:', len(dev_data))\n",
    "\tprint('Test samples:', len(test_data))\n",
    "\n",
    "\tprint(char_vocab)\n",
    "\tprint(tag_vocab)\n",
    "\n",
    "\tmodel = LSTMClassifier(char_vocab_size, args.char_dim, args.hidden_dim, len(tag_vocab))\n",
    "\toptimizer = optim.SGD(model.parameters(), lr=args.learning_rate, weight_decay=args.weight_decay)\n",
    "\n",
    "\tmodel = train_model(model, optimizer, train_data, dev_data, char_vocab, tag_vocab, args.batch_size, args.num_epochs)\n",
    "\n",
    "\tevaluate_test_set(model, test_data, char_vocab, tag_vocab)\n",
    "\n"
   ]
  },
  {
   "cell_type": "markdown",
   "metadata": {
    "id": "nLPdP8B5vEx5"
   },
   "source": [
    "keras version\n",
    "\n",
    "\n",
    "---\n",
    "\n"
   ]
  },
  {
   "cell_type": "code",
   "execution_count": null,
   "metadata": {
    "id": "8k4irhpOjH1g"
   },
   "outputs": [],
   "source": [
    "import numpy as np\n",
    "import pandas as pd\n",
    "import gensim\n",
    "import sklearn\n",
    "import tensorflow as tf\n",
    "from sklearn.model_selection import train_test_split\n",
    "from sklearn.decomposition import TruncatedSVD\n",
    "from sklearn.metrics import classification_report\n",
    "from sklearn.feature_extraction.text import TfidfVectorizer\n",
    "from tensorflow.keras.layers import *\n",
    "from keras.layers import *\n",
    "from keras.preprocessing.text import Tokenizer\n",
    "from keras.preprocessing.sequence import pad_sequences\n",
    "\n",
    "from keras.preprocessing import sequence\n",
    "from keras.models import Sequential, Model\n",
    "from keras.layers import Dense, Dropout, Embedding, LSTM, Bidirectional\n",
    "from tensorflow.keras.optimizers import Adam"
   ]
  },
  {
   "cell_type": "code",
   "execution_count": null,
   "metadata": {
    "id": "7mOeSQBQ-R1w"
   },
   "outputs": [],
   "source": [
    "num_classes = np.max(y) + 1"
   ]
  },
  {
   "cell_type": "code",
   "execution_count": null,
   "metadata": {
    "id": "m7xfLnbBpzPe"
   },
   "outputs": [],
   "source": [
    "X_train, X_test, y_train, y_test = train_test_split(final_word_x_wv_numeric,y.astype(\"int\"))"
   ]
  },
  {
   "cell_type": "code",
   "execution_count": null,
   "metadata": {
    "id": "QkogAI_3AVez"
   },
   "outputs": [],
   "source": [
    "x_train = sequence.pad_sequences(X_train, maxlen=max_len)\n",
    "x_test = sequence.pad_sequences(X_test, maxlen=max_len)"
   ]
  },
  {
   "cell_type": "code",
   "execution_count": null,
   "metadata": {
    "id": "0I4c8lIC-hCW"
   },
   "outputs": [],
   "source": [
    "y_train = np.eye(num_classes)[y_train]\n",
    "y_test = np.eye(num_classes)[y_test]"
   ]
  },
  {
   "cell_type": "code",
   "execution_count": null,
   "metadata": {
    "colab": {
     "base_uri": "https://localhost:8080/"
    },
    "id": "Z6BsQj6RClas",
    "outputId": "21c8e04a-85d9-45dc-eb6f-877fe4361833"
   },
   "outputs": [
    {
     "name": "stdout",
     "output_type": "stream",
     "text": [
      "Epoch 1/5\n",
      "28424/28424 [==============================] - 801s 28ms/step - loss: 1.6134 - accuracy: 0.3949 - val_loss: 1.1084 - val_accuracy: 0.6076\n",
      "Epoch 2/5\n",
      "28424/28424 [==============================] - 794s 28ms/step - loss: 1.1525 - accuracy: 0.5903 - val_loss: 1.0034 - val_accuracy: 0.6425\n",
      "Epoch 3/5\n",
      "28424/28424 [==============================] - 798s 28ms/step - loss: 1.0614 - accuracy: 0.6193 - val_loss: 0.9840 - val_accuracy: 0.6504\n",
      "Epoch 4/5\n",
      "28424/28424 [==============================] - 803s 28ms/step - loss: 1.0338 - accuracy: 0.6278 - val_loss: 0.9501 - val_accuracy: 0.6637\n",
      "Epoch 5/5\n",
      "28424/28424 [==============================] - 801s 28ms/step - loss: 1.0123 - accuracy: 0.6387 - val_loss: 0.9559 - val_accuracy: 0.6630\n"
     ]
    }
   ],
   "source": [
    "\n",
    "model = Sequential()\n",
    "model.add(SpatialDropout1D(0.2))\n",
    "model.add(LSTM(50, dropout=0.2, recurrent_dropout=0.2))\n",
    "model.add(Dense(10, activation='softmax'))\n",
    "model.compile(loss='categorical_crossentropy', optimizer='adam', metrics=['accuracy'])\n",
    "\n",
    "epochs = 5\n",
    "batch_size = 1\n",
    "\n",
    "history = model.fit(X_train, y_train, epochs=epochs, batch_size=1,validation_data=(X_test, y_test))"
   ]
  },
  {
   "cell_type": "code",
   "execution_count": null,
   "metadata": {
    "colab": {
     "base_uri": "https://localhost:8080/",
     "height": 281
    },
    "id": "Gr66GVnFnPn_",
    "outputId": "5f00e545-eb26-464f-adcf-7bf811faaf8e"
   },
   "outputs": [
    {
     "data": {
      "image/png": "[encoded data removed]",
      "text/plain": [
       "<Figure size 432x288 with 1 Axes>"
      ]
     },
     "metadata": {
      "needs_background": "light",
      "tags": []
     },
     "output_type": "display_data"
    }
   ],
   "source": [
    "plt.title('Loss')\n",
    "plt.plot(history.history['loss'], label='train')\n",
    "plt.plot(history.history['val_loss'], label='test')\n",
    "plt.legend()\n",
    "plt.show();"
   ]
  },
  {
   "cell_type": "code",
   "execution_count": null,
   "metadata": {
    "colab": {
     "base_uri": "https://localhost:8080/"
    },
    "id": "h75byf2NmV0-",
    "outputId": "65f53f4d-ba7c-45ae-8d86-987961c71b87"
   },
   "outputs": [
    {
     "name": "stdout",
     "output_type": "stream",
     "text": [
      "Mounted at /content/gdrive\n"
     ]
    }
   ],
   "source": [
    "from google.colab import drive\n",
    "drive.mount('/content/gdrive')"
   ]
  },
  {
   "cell_type": "code",
   "execution_count": null,
   "metadata": {
    "id": "PqSjYLM0kwrt"
   },
   "outputs": [],
   "source": [
    "model.save(\"lstmmodel.h5\")"
   ]
  },
  {
   "cell_type": "code",
   "execution_count": null,
   "metadata": {
    "id": "S-cGT5uNJoSb"
   },
   "outputs": [],
   "source": [
    "p = model.predict(final_word_x_wv_numeric_test)"
   ]
  },
  {
   "cell_type": "code",
   "execution_count": null,
   "metadata": {
    "colab": {
     "base_uri": "https://localhost:8080/"
    },
    "id": "xAIWgGpwMdR-",
    "outputId": "4c8bd94e-f18e-44b9-d1c2-8304405f13ec"
   },
   "outputs": [
    {
     "data": {
      "text/plain": [
       "array([6, 5, 5, ..., 6, 5, 2])"
      ]
     },
     "execution_count": 78,
     "metadata": {
      "tags": []
     },
     "output_type": "execute_result"
    }
   ],
   "source": [
    "predict = np.argmax(p, axis=1)\n",
    "predict"
   ]
  },
  {
   "cell_type": "markdown",
   "metadata": {
    "id": "qXVYGQ44pwan"
   },
   "source": [
    "**DecisionTreeClassifier**"
   ]
  },
  {
   "cell_type": "code",
   "execution_count": null,
   "metadata": {
    "colab": {
     "base_uri": "https://localhost:8080/"
    },
    "id": "uFJfrjqfpcPB",
    "outputId": "e4187ca9-60dd-4778-f3df-abc34a21343b"
   },
   "outputs": [
    {
     "name": "stdout",
     "output_type": "stream",
     "text": [
      "testing\n"
     ]
    }
   ],
   "source": [
    "from sklearn.tree import DecisionTreeClassifier\n",
    "clf = DecisionTreeClassifier(random_state=0)\n",
    "clf.fit(final_x_wv,y.astype(\"int\"))\n",
    "print(\"testing\")"
   ]
  },
  {
   "cell_type": "code",
   "execution_count": null,
   "metadata": {
    "id": "8opN4GgTp518"
   },
   "outputs": [],
   "source": [
    "p = clf.predict(final_x_wv_test)"
   ]
  },
  {
   "cell_type": "code",
   "execution_count": null,
   "metadata": {
    "id": "J8OeZTXTp7tY"
   },
   "outputs": [],
   "source": [
    "data_test[\"label\"] = p"
   ]
  },
  {
   "cell_type": "markdown",
   "metadata": {
    "id": "kiwsruNbaoXE"
   },
   "source": [
    "------------------------------------------------------------------------------------------------------------------------------------------------------------------"
   ]
  },
  {
   "cell_type": "markdown",
   "metadata": {
    "id": "q--7wACzUUH1"
   },
   "source": [
    "<h2>SVM on Word2vec</h2>"
   ]
  },
  {
   "cell_type": "code",
   "execution_count": null,
   "metadata": {
    "colab": {
     "base_uri": "https://localhost:8080/"
    },
    "id": "oxUVLt2yIFw_",
    "outputId": "16531d78-7232-4ee9-9cfb-edefd70da9bf"
   },
   "outputs": [
    {
     "name": "stdout",
     "output_type": "stream",
     "text": [
      "testing\n"
     ]
    }
   ],
   "source": [
    "clf = SVM()\n",
    "clf.fit(final_x_wv,y.astype(\"int\"))\n",
    "print(\"testing\")"
   ]
  },
  {
   "cell_type": "code",
   "execution_count": null,
   "metadata": {
    "id": "q1Cu0jnPLB5G"
   },
   "outputs": [],
   "source": [
    "# Predicting the test data\n",
    "p = clf.predict(final_x_wv_test)"
   ]
  },
  {
   "cell_type": "code",
   "execution_count": null,
   "metadata": {
    "id": "Fhqef_I8T6Be"
   },
   "outputs": [],
   "source": [
    "# adding the results to the test datafram\n",
    "data_test[\"label\"] = p"
   ]
  },
  {
   "cell_type": "code",
   "execution_count": null,
   "metadata": {
    "colab": {
     "base_uri": "https://localhost:8080/",
     "height": 424
    },
    "id": "Df7It5DeS7Vf",
    "outputId": "4c90454e-2144-4a9d-9d60-b813dc1393a9"
   },
   "outputs": [
    {
     "data": {
      "text/html": [
       "<div>\n",
       "<style scoped>\n",
       "    .dataframe tbody tr th:only-of-type {\n",
       "        vertical-align: middle;\n",
       "    }\n",
       "\n",
       "    .dataframe tbody tr th {\n",
       "        vertical-align: top;\n",
       "    }\n",
       "\n",
       "    .dataframe thead th {\n",
       "        text-align: right;\n",
       "    }\n",
       "</style>\n",
       "<table border=\"1\" class=\"dataframe\">\n",
       "  <thead>\n",
       "    <tr style=\"text-align: right;\">\n",
       "      <th></th>\n",
       "      <th>x</th>\n",
       "      <th>y</th>\n",
       "      <th>label</th>\n",
       "    </tr>\n",
       "  </thead>\n",
       "  <tbody>\n",
       "    <tr>\n",
       "      <th>0</th>\n",
       "      <td>7.586317</td>\n",
       "      <td>61.364948</td>\n",
       "      <td>3</td>\n",
       "    </tr>\n",
       "    <tr>\n",
       "      <th>1</th>\n",
       "      <td>-3.232638</td>\n",
       "      <td>12.709859</td>\n",
       "      <td>5</td>\n",
       "    </tr>\n",
       "    <tr>\n",
       "      <th>2</th>\n",
       "      <td>34.303860</td>\n",
       "      <td>45.386814</td>\n",
       "      <td>5</td>\n",
       "    </tr>\n",
       "    <tr>\n",
       "      <th>3</th>\n",
       "      <td>-80.811821</td>\n",
       "      <td>-12.550409</td>\n",
       "      <td>9</td>\n",
       "    </tr>\n",
       "    <tr>\n",
       "      <th>4</th>\n",
       "      <td>10.935827</td>\n",
       "      <td>51.733486</td>\n",
       "      <td>3</td>\n",
       "    </tr>\n",
       "    <tr>\n",
       "      <th>...</th>\n",
       "      <td>...</td>\n",
       "      <td>...</td>\n",
       "      <td>...</td>\n",
       "    </tr>\n",
       "    <tr>\n",
       "      <th>9995</th>\n",
       "      <td>-94.637459</td>\n",
       "      <td>-7.013300</td>\n",
       "      <td>9</td>\n",
       "    </tr>\n",
       "    <tr>\n",
       "      <th>9996</th>\n",
       "      <td>-92.166145</td>\n",
       "      <td>-4.858034</td>\n",
       "      <td>9</td>\n",
       "    </tr>\n",
       "    <tr>\n",
       "      <th>9997</th>\n",
       "      <td>36.751457</td>\n",
       "      <td>-10.448875</td>\n",
       "      <td>4</td>\n",
       "    </tr>\n",
       "    <tr>\n",
       "      <th>9998</th>\n",
       "      <td>1.598460</td>\n",
       "      <td>31.675255</td>\n",
       "      <td>5</td>\n",
       "    </tr>\n",
       "    <tr>\n",
       "      <th>9999</th>\n",
       "      <td>3.599506</td>\n",
       "      <td>25.454193</td>\n",
       "      <td>2</td>\n",
       "    </tr>\n",
       "  </tbody>\n",
       "</table>\n",
       "<p>10000 rows × 3 columns</p>\n",
       "</div>"
      ],
      "text/plain": [
       "              x          y  label\n",
       "0      7.586317  61.364948      3\n",
       "1     -3.232638  12.709859      5\n",
       "2     34.303860  45.386814      5\n",
       "3    -80.811821 -12.550409      9\n",
       "4     10.935827  51.733486      3\n",
       "...         ...        ...    ...\n",
       "9995 -94.637459  -7.013300      9\n",
       "9996 -92.166145  -4.858034      9\n",
       "9997  36.751457 -10.448875      4\n",
       "9998   1.598460  31.675255      5\n",
       "9999   3.599506  25.454193      2\n",
       "\n",
       "[10000 rows x 3 columns]"
      ]
     },
     "execution_count": 102,
     "metadata": {
      "tags": []
     },
     "output_type": "execute_result"
    }
   ],
   "source": [
    "#create a dataframe for dimensions test\n",
    "df_wv_test = pd.DataFrame(X_tsne_wv_test, columns=['x', 'y'])\n",
    "df_wv_test[\"label\"] = data_test[\"label\"]\n",
    "df_wv_test"
   ]
  },
  {
   "cell_type": "code",
   "execution_count": null,
   "metadata": {
    "colab": {
     "base_uri": "https://localhost:8080/",
     "height": 283
    },
    "id": "plA6_gM3UCUm",
    "outputId": "bc9f7862-43d7-46bf-9db0-dc9be36f432f"
   },
   "outputs": [
    {
     "data": {
      "text/plain": [
       "<matplotlib.collections.PathCollection at 0x7f69a9ce1410>"
      ]
     },
     "execution_count": 103,
     "metadata": {
      "tags": []
     },
     "output_type": "execute_result"
    },
    {
     "data": {
      "image/png": "[encoded data removed]",
      "text/plain": [
       "<Figure size 432x288 with 1 Axes>"
      ]
     },
     "metadata": {
      "needs_background": "light",
      "tags": []
     },
     "output_type": "display_data"
    }
   ],
   "source": [
    "# ploting the predicted data\n",
    "fig = plt.figure()\n",
    "ax = fig.add_subplot(1, 1, 1)\n",
    "colors = ['red','green','blue','purple','yellow','brown','orange','grey','olive', 'limegreen']\n",
    "ax.scatter(df_wv_test['x'], df_wv_test['y'], s=1, c=df_wv_test[\"label\"], cmap=matplotlib.colors.ListedColormap(colors))"
   ]
  },
  {
   "cell_type": "markdown",
   "metadata": {
    "id": "Qc9rnFWBZzPg"
   },
   "source": [
    "---------------------------------------------------------------------------------------------------------------------------------------------------------------------------------------------------------"
   ]
  },
  {
   "cell_type": "markdown",
   "metadata": {
    "id": "-mIF0l1-Yha9"
   },
   "source": [
    "<h2>Gaussian Naive bayes</h2>"
   ]
  },
  {
   "cell_type": "code",
   "execution_count": null,
   "metadata": {
    "id": "_cHKphV0M4AS"
   },
   "outputs": [],
   "source": [
    "from sklearn.naive_bayes import GaussianNB\n",
    "gnb = GaussianNB()"
   ]
  },
  {
   "cell_type": "code",
   "execution_count": null,
   "metadata": {
    "colab": {
     "base_uri": "https://localhost:8080/"
    },
    "id": "3UJZvN3CM7n8",
    "outputId": "13f9de16-8542-4df9-aa3b-d2e4210c7089"
   },
   "outputs": [
    {
     "data": {
      "text/plain": [
       "GaussianNB(priors=None, var_smoothing=1e-09)"
      ]
     },
     "execution_count": 78,
     "metadata": {
      "tags": []
     },
     "output_type": "execute_result"
    }
   ],
   "source": [
    "gnb.fit(final_x_wv,y_train.astype(\"int\"))"
   ]
  },
  {
   "cell_type": "code",
   "execution_count": null,
   "metadata": {
    "id": "KjEUGyKINK08"
   },
   "outputs": [],
   "source": [
    "y_pred = gnb.predict(final_x_wv_test)"
   ]
  },
  {
   "cell_type": "code",
   "execution_count": null,
   "metadata": {
    "id": "6PTo4pf8LjmR"
   },
   "outputs": [],
   "source": [
    "data_test[\"label\"] = p"
   ]
  },
  {
   "cell_type": "markdown",
   "metadata": {
    "id": "1T5PS6sCZVLQ"
   },
   "source": [
    "----------------------------------------------------------------------------------------------------------------------------------------------------------------"
   ]
  },
  {
   "cell_type": "markdown",
   "metadata": {
    "id": "io-_b_G-PRdE"
   },
   "source": [
    "<h2> fasttext </h2>"
   ]
  },
  {
   "cell_type": "code",
   "execution_count": null,
   "metadata": {
    "id": "qJRTP2724kVj"
   },
   "outputs": [],
   "source": [
    " # import fast text\n",
    " \n",
    " import fasttext as ft\n",
    " import fasttext.util"
   ]
  },
  {
   "cell_type": "code",
   "execution_count": null,
   "metadata": {
    "colab": {
     "base_uri": "https://localhost:8080/",
     "height": 72
    },
    "id": "1YNDgYbx6OCk",
    "outputId": "a26d964b-8b0d-4640-db1a-3ae1f2d1c2eb"
   },
   "outputs": [
    {
     "name": "stdout",
     "output_type": "stream",
     "text": [
      "Downloading https://dl.fbaipublicfiles.com/fasttext/vectors-crawl/cc.fa.300.bin.gz\n",
      "\n"
     ]
    },
    {
     "data": {
      "application/vnd.google.colaboratory.intrinsic+json": {
       "type": "string"
      },
      "text/plain": [
       "'cc.fa.300.bin'"
      ]
     },
     "execution_count": 87,
     "metadata": {
      "tags": []
     },
     "output_type": "execute_result"
    }
   ],
   "source": [
    "# downloading farsi vectors\n",
    "fasttext.util.download_model( 'fa', if_exists='ignore') "
   ]
  },
  {
   "cell_type": "code",
   "execution_count": null,
   "metadata": {
    "colab": {
     "base_uri": "https://localhost:8080/",
     "height": 424
    },
    "id": "Nr4T3Oz9Hx03",
    "outputId": "bdd621ab-7470-4eb1-c267-a268a28ed783"
   },
   "outputs": [
    {
     "data": {
      "text/html": [
       "<div>\n",
       "<style scoped>\n",
       "    .dataframe tbody tr th:only-of-type {\n",
       "        vertical-align: middle;\n",
       "    }\n",
       "\n",
       "    .dataframe tbody tr th {\n",
       "        vertical-align: top;\n",
       "    }\n",
       "\n",
       "    .dataframe thead th {\n",
       "        text-align: right;\n",
       "    }\n",
       "</style>\n",
       "<table border=\"1\" class=\"dataframe\">\n",
       "  <thead>\n",
       "    <tr style=\"text-align: right;\">\n",
       "      <th></th>\n",
       "      <th>app_id</th>\n",
       "      <th>description_fa</th>\n",
       "      <th>label</th>\n",
       "    </tr>\n",
       "  </thead>\n",
       "  <tbody>\n",
       "    <tr>\n",
       "      <th>0</th>\n",
       "      <td>0</td>\n",
       "      <td>باز مین روب برنامه فکر مین موجود صفحه باز کشف ...</td>\n",
       "      <td>__label__1</td>\n",
       "    </tr>\n",
       "    <tr>\n",
       "      <th>1</th>\n",
       "      <td>1</td>\n",
       "      <td>دراین باز تعداد عکس ن خاطر سپرده بعدا جواب پرس...</td>\n",
       "      <td>__label__1</td>\n",
       "    </tr>\n",
       "    <tr>\n",
       "      <th>2</th>\n",
       "      <td>2</td>\n",
       "      <td>تلا نافرجا درک بوفالو مرگ پا ماجرا نیستچرا آنج...</td>\n",
       "      <td>__label__7</td>\n",
       "    </tr>\n",
       "    <tr>\n",
       "      <th>3</th>\n",
       "      <td>3</td>\n",
       "      <td>فیل نما برنام دانلود آنلاین فیل سریال نمایش فی...</td>\n",
       "      <td>__label__7</td>\n",
       "    </tr>\n",
       "    <tr>\n",
       "      <th>4</th>\n",
       "      <td>4</td>\n",
       "      <td>برنامه حاو ۵۰۰ عکس ژس مدل عکاس شدنه کتاب مدل ع...</td>\n",
       "      <td>__label__7</td>\n",
       "    </tr>\n",
       "    <tr>\n",
       "      <th>...</th>\n",
       "      <td>...</td>\n",
       "      <td>...</td>\n",
       "      <td>...</td>\n",
       "    </tr>\n",
       "    <tr>\n",
       "      <th>37894</th>\n",
       "      <td>37894</td>\n",
       "      <td>هزین هفته مسابقه هرگونه اب سوال مشکل کانال تلگ...</td>\n",
       "      <td>__label__1</td>\n",
       "    </tr>\n",
       "    <tr>\n",
       "      <th>37895</th>\n",
       "      <td>37895</td>\n",
       "      <td>حیو مزرعه کمک احتیاج بلوک نج ببرید جذاب سنین ک...</td>\n",
       "      <td>__label__1</td>\n",
       "    </tr>\n",
       "    <tr>\n",
       "      <th>37896</th>\n",
       "      <td>37896</td>\n",
       "      <td>دوس دار عکس پروفایل باشه حتما برنامه نصب کن یه...</td>\n",
       "      <td>__label__7</td>\n",
       "    </tr>\n",
       "    <tr>\n",
       "      <th>37897</th>\n",
       "      <td>37897</td>\n",
       "      <td>نسخه باز باز معما صد لوگو باشگاه جه بینید حدس ...</td>\n",
       "      <td>__label__1</td>\n",
       "    </tr>\n",
       "    <tr>\n",
       "      <th>37898</th>\n",
       "      <td>37898</td>\n",
       "      <td>تاریخ خونین مرد ایر نبرد پایدار آفریدگ قتل عا ...</td>\n",
       "      <td>__label__0</td>\n",
       "    </tr>\n",
       "  </tbody>\n",
       "</table>\n",
       "<p>37899 rows × 3 columns</p>\n",
       "</div>"
      ],
      "text/plain": [
       "       app_id                                     description_fa       label\n",
       "0           0  باز مین روب برنامه فکر مین موجود صفحه باز کشف ...  __label__1\n",
       "1           1  دراین باز تعداد عکس ن خاطر سپرده بعدا جواب پرس...  __label__1\n",
       "2           2  تلا نافرجا درک بوفالو مرگ پا ماجرا نیستچرا آنج...  __label__7\n",
       "3           3  فیل نما برنام دانلود آنلاین فیل سریال نمایش فی...  __label__7\n",
       "4           4  برنامه حاو ۵۰۰ عکس ژس مدل عکاس شدنه کتاب مدل ع...  __label__7\n",
       "...       ...                                                ...         ...\n",
       "37894   37894  هزین هفته مسابقه هرگونه اب سوال مشکل کانال تلگ...  __label__1\n",
       "37895   37895  حیو مزرعه کمک احتیاج بلوک نج ببرید جذاب سنین ک...  __label__1\n",
       "37896   37896  دوس دار عکس پروفایل باشه حتما برنامه نصب کن یه...  __label__7\n",
       "37897   37897  نسخه باز باز معما صد لوگو باشگاه جه بینید حدس ...  __label__1\n",
       "37898   37898  تاریخ خونین مرد ایر نبرد پایدار آفریدگ قتل عا ...  __label__0\n",
       "\n",
       "[37899 rows x 3 columns]"
      ]
     },
     "execution_count": 147,
     "metadata": {
      "tags": []
     },
     "output_type": "execute_result"
    }
   ],
   "source": [
    "# change data to the proper style for training from fasttext\n",
    "\n",
    "data.iloc[:, 2] = data.iloc[:, 2].apply(lambda x: '__label__' + str(x))\n",
    "data"
   ]
  },
  {
   "cell_type": "code",
   "execution_count": null,
   "metadata": {
    "id": "I1Sx14dxJfhG"
   },
   "outputs": [],
   "source": [
    "# save data to a text file for predicting and training\n",
    "\n",
    "data[['label', 'description_fa']].to_csv('train.txt', \n",
    "                                          index = False, \n",
    "                                          sep = ' ',\n",
    "                                          header = None,  \n",
    "                                )"
   ]
  },
  {
   "cell_type": "code",
   "execution_count": null,
   "metadata": {
    "colab": {
     "base_uri": "https://localhost:8080/",
     "height": 424
    },
    "id": "h5bDVGS6MD2K",
    "outputId": "2be6d718-353b-4d3e-d371-efb2987f547a"
   },
   "outputs": [
    {
     "data": {
      "text/html": [
       "<div>\n",
       "<style scoped>\n",
       "    .dataframe tbody tr th:only-of-type {\n",
       "        vertical-align: middle;\n",
       "    }\n",
       "\n",
       "    .dataframe tbody tr th {\n",
       "        vertical-align: top;\n",
       "    }\n",
       "\n",
       "    .dataframe thead th {\n",
       "        text-align: right;\n",
       "    }\n",
       "</style>\n",
       "<table border=\"1\" class=\"dataframe\">\n",
       "  <thead>\n",
       "    <tr style=\"text-align: right;\">\n",
       "      <th></th>\n",
       "      <th>app_id</th>\n",
       "      <th>description_fa</th>\n",
       "      <th>label</th>\n",
       "    </tr>\n",
       "  </thead>\n",
       "  <tbody>\n",
       "    <tr>\n",
       "      <th>0</th>\n",
       "      <td>40000</td>\n",
       "      <td>برنامه باز جالب میکرو آماده جنگ بالون جنگ بالو...</td>\n",
       "      <td></td>\n",
       "    </tr>\n",
       "    <tr>\n",
       "      <th>1</th>\n",
       "      <td>40001</td>\n",
       "      <td>باز آموز میلونر زب انگلیس تقو زب انگیلیس سنین ...</td>\n",
       "      <td></td>\n",
       "    </tr>\n",
       "    <tr>\n",
       "      <th>2</th>\n",
       "      <td>40002</td>\n",
       "      <td>موضوع کن شاد سرگر حدس موضوع سبک گرافیک موسیق ا...</td>\n",
       "      <td></td>\n",
       "    </tr>\n",
       "    <tr>\n",
       "      <th>3</th>\n",
       "      <td>40003</td>\n",
       "      <td>نر افزار فول تلگرا تلگرا امک بهتون ده نر افزار...</td>\n",
       "      <td></td>\n",
       "    </tr>\n",
       "    <tr>\n",
       "      <th>4</th>\n",
       "      <td>40004</td>\n",
       "      <td>کن سریع هس تون خودتو امتح کن ساده جذاب سریع ما...</td>\n",
       "      <td></td>\n",
       "    </tr>\n",
       "    <tr>\n",
       "      <th>...</th>\n",
       "      <td>...</td>\n",
       "      <td>...</td>\n",
       "      <td>...</td>\n",
       "    </tr>\n",
       "    <tr>\n",
       "      <th>9995</th>\n",
       "      <td>49995</td>\n",
       "      <td>فالوورگیر اینستاگرا امک لایک بگیر اینستاگرا کا...</td>\n",
       "      <td></td>\n",
       "    </tr>\n",
       "    <tr>\n",
       "      <th>9996</th>\n",
       "      <td>49996</td>\n",
       "      <td>میخوا نامحدود آنفلو کن دلتون میخواد عکس اینستا...</td>\n",
       "      <td></td>\n",
       "    </tr>\n",
       "    <tr>\n",
       "      <th>9997</th>\n",
       "      <td>49997</td>\n",
       "      <td>باز زیبا کنسول میکرو یاد گذشته براتون بازیه زی...</td>\n",
       "      <td></td>\n",
       "    </tr>\n",
       "    <tr>\n",
       "      <th>9998</th>\n",
       "      <td>49998</td>\n",
       "      <td>دوس اطلاع عمو داشته_با دوس جه اطراف هرچه سریع ...</td>\n",
       "      <td></td>\n",
       "    </tr>\n",
       "    <tr>\n",
       "      <th>9999</th>\n",
       "      <td>49999</td>\n",
       "      <td>لباس فوتبالو میشناس دل میخواد خودتو محک بزن سر...</td>\n",
       "      <td></td>\n",
       "    </tr>\n",
       "  </tbody>\n",
       "</table>\n",
       "<p>10000 rows × 3 columns</p>\n",
       "</div>"
      ],
      "text/plain": [
       "      app_id                                     description_fa label\n",
       "0      40000  برنامه باز جالب میکرو آماده جنگ بالون جنگ بالو...      \n",
       "1      40001  باز آموز میلونر زب انگلیس تقو زب انگیلیس سنین ...      \n",
       "2      40002  موضوع کن شاد سرگر حدس موضوع سبک گرافیک موسیق ا...      \n",
       "3      40003  نر افزار فول تلگرا تلگرا امک بهتون ده نر افزار...      \n",
       "4      40004  کن سریع هس تون خودتو امتح کن ساده جذاب سریع ما...      \n",
       "...      ...                                                ...   ...\n",
       "9995   49995  فالوورگیر اینستاگرا امک لایک بگیر اینستاگرا کا...      \n",
       "9996   49996  میخوا نامحدود آنفلو کن دلتون میخواد عکس اینستا...      \n",
       "9997   49997  باز زیبا کنسول میکرو یاد گذشته براتون بازیه زی...      \n",
       "9998   49998  دوس اطلاع عمو داشته_با دوس جه اطراف هرچه سریع ...      \n",
       "9999   49999  لباس فوتبالو میشناس دل میخواد خودتو محک بزن سر...      \n",
       "\n",
       "[10000 rows x 3 columns]"
      ]
     },
     "execution_count": 149,
     "metadata": {
      "tags": []
     },
     "output_type": "execute_result"
    }
   ],
   "source": [
    "data_test['label'] = p\n",
    "data_test"
   ]
  },
  {
   "cell_type": "code",
   "execution_count": null,
   "metadata": {
    "id": "M6VMZUURL42c"
   },
   "outputs": [],
   "source": [
    "# saving test data to text file \n",
    "data_test[['label', 'description_fa']].to_csv('test.txt', \n",
    "                                          index = False, \n",
    "                                          sep = ' ',\n",
    "                                          header = None,  \n",
    "                                )"
   ]
  },
  {
   "cell_type": "code",
   "execution_count": null,
   "metadata": {
    "id": "KA8YvMi2Hdel"
   },
   "outputs": [],
   "source": [
    "# train fastetxt on train data\n",
    "model = fasttext.train_supervised('train.txt', wordNgrams=5)"
   ]
  },
  {
   "cell_type": "code",
   "execution_count": null,
   "metadata": {
    "colab": {
     "base_uri": "https://localhost:8080/"
    },
    "id": "Eyel3UxkLOlj",
    "outputId": "af78a7ac-3b83-4730-a157-a394e02743d4"
   },
   "outputs": [
    {
     "name": "stderr",
     "output_type": "stream",
     "text": [
      "/usr/local/lib/python3.7/dist-packages/ipykernel_launcher.py:2: SettingWithCopyWarning: \n",
      "A value is trying to be set on a copy of a slice from a DataFrame\n",
      "\n",
      "See the caveats in the documentation: https://pandas.pydata.org/pandas-docs/stable/user_guide/indexing.html#returning-a-view-versus-a-copy\n",
      "  \n"
     ]
    }
   ],
   "source": [
    "# predict on test data\n",
    "\n",
    "for i in range(0, len(data_test[\"description_fa\"])):\n",
    " data_test[\"label\"][i] = model.predict(data_test[\"description_fa\"][i])[0][0]"
   ]
  },
  {
   "cell_type": "code",
   "execution_count": null,
   "metadata": {
    "colab": {
     "base_uri": "https://localhost:8080/",
     "height": 127
    },
    "id": "9i9hb3X-WWtN",
    "outputId": "ecb7fa2a-0ebf-44e3-b47e-bc65eac864b5"
   },
   "outputs": [
    {
     "name": "stderr",
     "output_type": "stream",
     "text": [
      "/usr/local/lib/python3.7/dist-packages/ipykernel_launcher.py:3: SettingWithCopyWarning: \n",
      "A value is trying to be set on a copy of a slice from a DataFrame\n",
      "\n",
      "See the caveats in the documentation: https://pandas.pydata.org/pandas-docs/stable/user_guide/indexing.html#returning-a-view-versus-a-copy\n",
      "  This is separate from the ipykernel package so we can avoid doing imports until\n"
     ]
    },
    {
     "data": {
      "application/vnd.google.colaboratory.intrinsic+json": {
       "type": "string"
      },
      "text/plain": [
       "'1'"
      ]
     },
     "execution_count": 163,
     "metadata": {
      "tags": []
     },
     "output_type": "execute_result"
    }
   ],
   "source": [
    "# write prediction in proper style to pandas dataframe\n",
    "for i in range(0, len(data_test[\"description_fa\"])):\n",
    "  n = re.sub(\"__label__\",\"\",data_test[\"label\"][i])\n",
    "  data_test[\"label\"][i] = int(n)\n",
    "n"
   ]
  },
  {
   "cell_type": "markdown",
   "metadata": {
    "id": "Z9ir3CFdBhTd"
   },
   "source": [
    "<h2><b>XGBoost</b><h2>"
   ]
  },
  {
   "cell_type": "markdown",
   "metadata": {
    "id": "fNdxoRklBZCg"
   },
   "source": [
    "\n",
    "\n",
    "---\n",
    "\n"
   ]
  },
  {
   "cell_type": "code",
   "execution_count": null,
   "metadata": {
    "colab": {
     "base_uri": "https://localhost:8080/"
    },
    "id": "Lr8eO8eo691n",
    "outputId": "abc29d6e-7c2e-4a75-956b-c6baaf9fe74a"
   },
   "outputs": [
    {
     "name": "stdout",
     "output_type": "stream",
     "text": [
      "Requirement already satisfied: xgboost in /usr/local/lib/python3.7/dist-packages (0.90)\n",
      "Requirement already satisfied: scipy in /usr/local/lib/python3.7/dist-packages (from xgboost) (1.4.1)\n",
      "Requirement already satisfied: numpy in /usr/local/lib/python3.7/dist-packages (from xgboost) (1.19.5)\n"
     ]
    }
   ],
   "source": [
    "pip install xgboost"
   ]
  },
  {
   "cell_type": "code",
   "execution_count": null,
   "metadata": {
    "id": "UjDol8jZ6_0t"
   },
   "outputs": [],
   "source": [
    "import xgboost as xgb"
   ]
  },
  {
   "cell_type": "code",
   "execution_count": null,
   "metadata": {
    "id": "fsqk1Wfv9bDS"
   },
   "outputs": [],
   "source": [
    "X_train, X_test, y_train, y_test = train_test_split(final_x_wv,y.astype(\"int\"))"
   ]
  },
  {
   "cell_type": "code",
   "execution_count": null,
   "metadata": {
    "id": "d5UpSvXjpcOO"
   },
   "outputs": [],
   "source": [
    "# squueze the data if you hhavn't squze it before\n",
    "# X_train = np.array(X_train)\n",
    "# X_train = np.squeeze(X_train, axis=2)\n",
    "# X_test = np.array(X_test)\n",
    "# X_test = np.squeeze(X_test, axis=2)"
   ]
  },
  {
   "cell_type": "code",
   "execution_count": null,
   "metadata": {
    "id": "DlGul1UJkDvQ"
   },
   "outputs": [],
   "source": [
    "# create matrix for train and validation\n",
    "dtrain_ = xgb.DMatrix(X_train,label = y)\n",
    "dval = xgb.DMatrix(X_test)"
   ]
  },
  {
   "cell_type": "code",
   "execution_count": null,
   "metadata": {
    "id": "8jCZei0OkNI3"
   },
   "outputs": [],
   "source": [
    "# setting the parameters\n",
    "different_settings = []\n",
    "\n",
    "param = {'max_depth': 7, 'eta': 0.2, 'objective': 'multi:softmax'}\n",
    "param['nthread'] = 4\n",
    "param['num_class'] = 10\n",
    "different_settings.append(param)\n",
    "param_2 = {'max_depth': 7, 'eta': 0.3, 'objective': 'multi:softmax'}\n",
    "param_2['nthread'] = 4\n",
    "param_2['num_class'] = 10\n",
    "different_settings.append(param_2)\n",
    "param_3 = {'max_depth': 7, 'eta': 0.1, 'objective': 'multi:softmax'}\n",
    "param_3['nthread'] = 4\n",
    "param_3['num_class'] = 10\n",
    "different_settings.append(param_3)"
   ]
  },
  {
   "cell_type": "code",
   "execution_count": null,
   "metadata": {
    "id": "wFV_fNsekrqi"
   },
   "outputs": [],
   "source": [
    "#using cross validation for choosing between different params\n",
    "for p in different_settings:\n",
    "  bst = xgb.XGBClassifier(p)\n",
    "  cvresult = xgb.cv(p, dtrain_, num_boost_round=bst.get_params()['n_estimators'], nfold=5,\n",
    "            metrics='mlogloss', early_stopping_rounds=100)\n",
    "  bst.set_params(n_estimators=cvresult.shape[0])\n",
    "  bst.fit(dtrain_, dtrain_['Disbursed'], eval_metric='mlogloss')\n",
    "\n",
    "  dtrain_predictions = bst.predict(dval)\n",
    "  dtrain_predprob = bst.predict_proba(dval)[:,1]\n",
    "        \n",
    "    #Print model report:\n",
    "  print(\"\\nModel Report\")\n",
    "  print(\"Accuracy : %.4g\" % metrics.accuracy_score(dtrain_['Disbursed'].values, dtrain_predictions))\n",
    "  print(\"AUC Score (Train): %f\" % metrics.roc_auc_score(dtrain_['Disbursed'], dtrain_predprob))\n",
    "                    \n",
    "  feat_imp = pd.Series(bst.booster().get_fscore()).sort_values(ascending=False)\n",
    "  feat_imp.plot(kind='bar', title='Feature Importances')\n",
    "  plt.ylabel('Feature Importance Score')"
   ]
  },
  {
   "cell_type": "code",
   "execution_count": null,
   "metadata": {
    "id": "9F7lAPSU7gJR"
   },
   "outputs": [],
   "source": [
    "#final train matrix\n",
    "dtrain = xgb.DMatrix(final_x_wv,label = y)\n",
    "dtest = xgb.DMatrix(final_x_wv_test)"
   ]
  },
  {
   "cell_type": "code",
   "execution_count": null,
   "metadata": {
    "id": "XH--iFhN8yku"
   },
   "outputs": [],
   "source": [
    "# setting the parameters\n",
    "\n",
    "param = {'max_depth': 8, 'eta': 0.1, 'objective': 'multi:softmax'} \n",
    "param['nthread'] = 4\n",
    "param['num_class'] = 10"
   ]
  },
  {
   "cell_type": "code",
   "execution_count": null,
   "metadata": {
    "id": "D0Ovb7bh9s3v"
   },
   "outputs": [],
   "source": [
    "num_round = 350\n",
    "bst = xgb.train(param, dtrain, num_round)"
   ]
  },
  {
   "cell_type": "code",
   "execution_count": null,
   "metadata": {
    "id": "tFnbgFiJ_p1O"
   },
   "outputs": [],
   "source": [
    "predict = bst.predict(dtest)"
   ]
  },
  {
   "cell_type": "markdown",
   "metadata": {
    "id": "nHtKUgmvSEcn"
   },
   "source": [
    "---------------------------------------------------------"
   ]
  },
  {
   "cell_type": "markdown",
   "metadata": {
    "id": "31zEOCfRVfFT"
   },
   "source": [
    "<h2><b> Random Forest</b> </h2>"
   ]
  },
  {
   "cell_type": "code",
   "execution_count": null,
   "metadata": {
    "colab": {
     "base_uri": "https://localhost:8080/"
    },
    "id": "werODMx_USQc",
    "outputId": "6eb524ae-03e8-46ca-8992-8273d9181cd1"
   },
   "outputs": [
    {
     "data": {
      "text/plain": [
       "RandomForestClassifier(bootstrap=True, ccp_alpha=0.0, class_weight=None,\n",
       "                       criterion='gini', max_depth=8, max_features='auto',\n",
       "                       max_leaf_nodes=None, max_samples=None,\n",
       "                       min_impurity_decrease=0.0, min_impurity_split=None,\n",
       "                       min_samples_leaf=1, min_samples_split=2,\n",
       "                       min_weight_fraction_leaf=0.0, n_estimators=100,\n",
       "                       n_jobs=None, oob_score=False, random_state=0, verbose=0,\n",
       "                       warm_start=False)"
      ]
     },
     "execution_count": 70,
     "metadata": {
      "tags": []
     },
     "output_type": "execute_result"
    }
   ],
   "source": [
    "from sklearn.ensemble import RandomForestClassifier\n",
    "clf = RandomForestClassifier(max_depth=8, random_state=0, verbose = 1)\n",
    "clf.fit(final_x_wv, y)"
   ]
  },
  {
   "cell_type": "code",
   "execution_count": null,
   "metadata": {
    "id": "7fwzTI_pUjLU"
   },
   "outputs": [],
   "source": [
    "predict = clf.predict(final_x_wv_test)"
   ]
  },
  {
   "cell_type": "markdown",
   "metadata": {
    "id": "v0yVcYd9YvwR"
   },
   "source": [
    "<h2> Saving the data </h2>"
   ]
  },
  {
   "cell_type": "code",
   "execution_count": null,
   "metadata": {
    "colab": {
     "base_uri": "https://localhost:8080/"
    },
    "id": "z43ZW5aqLVFH",
    "outputId": "fbd51035-10be-429d-c40b-dbb096aa9551"
   },
   "outputs": [
    {
     "name": "stdout",
     "output_type": "stream",
     "text": [
      "Mounted at /content/gdrive\n"
     ]
    }
   ],
   "source": [
    "from google.colab import drive\n",
    "drive.mount('/content/gdrive')"
   ]
  },
  {
   "cell_type": "code",
   "execution_count": null,
   "metadata": {
    "id": "lt-KKmRQMsQW"
   },
   "outputs": [],
   "source": [
    "data_test[\"label\"] = predict"
   ]
  },
  {
   "cell_type": "code",
   "execution_count": null,
   "metadata": {
    "colab": {
     "base_uri": "https://localhost:8080/"
    },
    "id": "veaxBqrVLQim",
    "outputId": "4c0e40f3-0030-4d3a-f457-fdff9f647a02"
   },
   "outputs": [
    {
     "name": "stdout",
     "output_type": "stream",
     "text": [
      "/content/gdrive/My Drive\n"
     ]
    }
   ],
   "source": [
    "cd /content/gdrive/My Drive"
   ]
  },
  {
   "cell_type": "code",
   "execution_count": null,
   "metadata": {
    "id": "U6Wbp0jjLvHl"
   },
   "outputs": [],
   "source": [
    "data_test.to_csv(\"prediction_q1_29.csv\")"
   ]
  },
  {
   "cell_type": "code",
   "execution_count": null,
   "metadata": {
    "colab": {
     "base_uri": "https://localhost:8080/"
    },
    "id": "-dDOdSgoV5rx",
    "outputId": "600794ad-a1b2-4343-9e69-57f035fa7c5a"
   },
   "outputs": [
    {
     "name": "stdout",
     "output_type": "stream",
     "text": [
      "/content\n"
     ]
    }
   ],
   "source": [
    "cd ../.."
   ]
  },
  {
   "cell_type": "markdown",
   "metadata": {
    "id": "Ex6QB1hrrtlp"
   },
   "source": [
    "<h1><b>Conclusion</b></h1>\n",
    "\n",
    "---\n",
    "\n",
    "\n",
    "XGboost was the best classifier of all them with 71% accuracy after that svm with 70%. to make it better we can:\n",
    "\n",
    "1.   Add more data\n",
    "2.   Treat missing and Outlier values\n",
    "3.   Feature Engineering.\n",
    "4.   use Multiple algorithms.\n",
    "5.   Feature Selection\n",
    "6.   Algorithm Tuning.\n",
    "\n"
   ]
  },
  {
   "cell_type": "markdown",
   "metadata": {
    "id": "AVRZO3mymW1L"
   },
   "source": [
    "google colab link of this code: https://colab.research.google.com/drive/1PiXQuK6kkWkQOT_MbYXIgGTXC0GDnhtc#scrollTo=AVRZO3mymW1L"
   ]
  },
  {
   "cell_type": "markdown",
   "metadata": {
    "id": "5o-MXLp4Y85B"
   },
   "source": [
    "----------------------------------------------------"
   ]
  }
 ],
 "metadata": {
  "accelerator": "GPU",
  "colab": {
   "collapsed_sections": [],
   "name": "text_classification.ipynb",
   "provenance": []
  },
  "kernelspec": {
   "display_name": "Python 3",
   "language": "python",
   "name": "python3"
  },
  "language_info": {
   "codemirror_mode": {
    "name": "ipython",
    "version": 3
   },
   "file_extension": ".py",
   "mimetype": "text/x-python",
   "name": "python",
   "nbconvert_exporter": "python",
   "pygments_lexer": "ipython3",
   "version": "3.8.5"
  }
 },
 "nbformat": 4,
 "nbformat_minor": 1
}
